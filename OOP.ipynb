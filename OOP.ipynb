{
 "cells": [
  {
   "cell_type": "markdown",
   "metadata": {},
   "source": [
    "### OOP (Object Oriented Programming)"
   ]
  },
  {
   "cell_type": "code",
   "execution_count": 3,
   "metadata": {},
   "outputs": [
    {
     "name": "stdout",
     "output_type": "stream",
     "text": [
      "<class '__main__.Employee'>\n"
     ]
    }
   ],
   "source": [
    "# define a simple class\n",
    "\n",
    "class Employee:\n",
    "    pass\n",
    "\n",
    "print(type(Employee())) "
   ]
  },
  {
   "cell_type": "code",
   "execution_count": 9,
   "metadata": {},
   "outputs": [
    {
     "ename": "AttributeError",
     "evalue": "'Employee' object has no attribute 'hi'",
     "output_type": "error",
     "traceback": [
      "\u001b[0;31m---------------------------------------------------------------------------\u001b[0m",
      "\u001b[0;31mAttributeError\u001b[0m                            Traceback (most recent call last)",
      "\u001b[0;32m<ipython-input-9-062077ddbc31>\u001b[0m in \u001b[0;36m<module>\u001b[0;34m\u001b[0m\n\u001b[1;32m     10\u001b[0m \u001b[0;34m\u001b[0m\u001b[0m\n\u001b[1;32m     11\u001b[0m \u001b[0memp\u001b[0m \u001b[0;34m=\u001b[0m \u001b[0mEmployee\u001b[0m\u001b[0;34m(\u001b[0m\u001b[0;34m\"zahid\"\u001b[0m\u001b[0;34m,\u001b[0m \u001b[0;34m\"Cool Guy!\"\u001b[0m\u001b[0;34m)\u001b[0m\u001b[0;34m\u001b[0m\u001b[0;34m\u001b[0m\u001b[0m\n\u001b[0;32m---> 12\u001b[0;31m \u001b[0mprint\u001b[0m\u001b[0;34m(\u001b[0m\u001b[0memp\u001b[0m\u001b[0;34m.\u001b[0m\u001b[0mname\u001b[0m\u001b[0;34m,\u001b[0m \u001b[0memp\u001b[0m\u001b[0;34m.\u001b[0m\u001b[0mtitle\u001b[0m\u001b[0;34m,\u001b[0m \u001b[0memp\u001b[0m\u001b[0;34m.\u001b[0m\u001b[0mlocation\u001b[0m\u001b[0;34m,\u001b[0m \u001b[0memp\u001b[0m\u001b[0;34m.\u001b[0m\u001b[0mhi\u001b[0m\u001b[0;34m)\u001b[0m\u001b[0;34m\u001b[0m\u001b[0;34m\u001b[0m\u001b[0m\n\u001b[0m",
      "\u001b[0;31mAttributeError\u001b[0m: 'Employee' object has no attribute 'hi'"
     ]
    }
   ],
   "source": [
    "# class with attributes\n",
    "\n",
    "class Employee:\n",
    "    # special method to initialize values\n",
    "    # all class methods must pass self as first arg\n",
    "    def __init__(self, name, title):\n",
    "        self.name = name\n",
    "        self.title = title\n",
    "        self.location = None  \n",
    "        \n",
    "emp = Employee(\"zahid\", \"Cool Guy!\") \n",
    "print(emp.name, emp.title, emp.location)\n"
   ]
  },
  {
   "cell_type": "code",
   "execution_count": 5,
   "metadata": {},
   "outputs": [
    {
     "name": "stdout",
     "output_type": "stream",
     "text": [
      "I'm in the @property for name\n",
      "Dave has 3 skills.\n"
     ]
    }
   ],
   "source": [
    "# class with methods (functions)\n",
    "\n",
    "class Employee:\n",
    "    # special method to initialize values\n",
    "    # all class methods must pass self as first arg\n",
    "    def __init__(self, name, title, skills):\n",
    "        self.name = name  # this will call the @name.setter method\n",
    "        self.title = title\n",
    "        self.skills = skills\n",
    "        self.location = None  \n",
    "        \n",
    "    @property\n",
    "    def name(self):\n",
    "        print(\"I'm in the @property for name\")\n",
    "        return self._name\n",
    "    \n",
    "    @name.setter\n",
    "    def name(self, name):\n",
    "        if not name:\n",
    "            raise ValueError(\"name must have a value\")\n",
    "        \n",
    "        self._name = name\n",
    "        \n",
    "    def get_skill_count(self):\n",
    "        return len(self.skills)\n",
    "    \n",
    "emp = Employee(\"zahid\", \"Cool Guy!\", [\"Java\", \"python\", \"C#\"]) \n",
    "# try this\n",
    "# emp.name = \"\"\n",
    "\n",
    "emp.name = \"Dave\"  # this will call the @name.setter method\n",
    "\n",
    "# emp.name will call the @property method\n",
    "print(f\"{emp.name} has {emp.get_skill_count()} skills.\")\n",
    "\n"
   ]
  },
  {
   "cell_type": "markdown",
   "metadata": {},
   "source": [
    "#### \"Private\" Attributes (Not built-in)"
   ]
  },
  {
   "cell_type": "code",
   "execution_count": 6,
   "metadata": {},
   "outputs": [],
   "source": [
    "# for example, whereas\n",
    "# emp.name = \"\" # generates an exception\n",
    "\n",
    "emp._name = \"\" # allowed -- uh oh!"
   ]
  },
  {
   "cell_type": "code",
   "execution_count": 17,
   "metadata": {},
   "outputs": [
    {
     "name": "stdout",
     "output_type": "stream",
     "text": [
      "Spot is fun\n"
     ]
    },
    {
     "ename": "AttributeError",
     "evalue": "'Dog' object has no attribute '__name'",
     "output_type": "error",
     "traceback": [
      "\u001b[0;31m---------------------------------------------------------------------------\u001b[0m",
      "\u001b[0;31mAttributeError\u001b[0m                            Traceback (most recent call last)",
      "\u001b[0;32m<ipython-input-17-becc9f7b616c>\u001b[0m in \u001b[0;36m<module>\u001b[0;34m\u001b[0m\n\u001b[1;32m     22\u001b[0m \u001b[0;34m\u001b[0m\u001b[0m\n\u001b[1;32m     23\u001b[0m \u001b[0;31m# if you try to access the variable name, it will raise an exception\u001b[0m\u001b[0;34m\u001b[0m\u001b[0;34m\u001b[0m\u001b[0;34m\u001b[0m\u001b[0m\n\u001b[0;32m---> 24\u001b[0;31m \u001b[0mdog\u001b[0m\u001b[0;34m.\u001b[0m\u001b[0m__name\u001b[0m\u001b[0;34m\u001b[0m\u001b[0;34m\u001b[0m\u001b[0m\n\u001b[0m",
      "\u001b[0;31mAttributeError\u001b[0m: 'Dog' object has no attribute '__name'"
     ]
    }
   ],
   "source": [
    "# sort of possible, but not recommended because it breaks from pythonic way\n",
    "class Dog:\n",
    "    def __init__(self, name):\n",
    "        self.__name = name\n",
    "        \n",
    "    @property\n",
    "    def name(self):\n",
    "        return self.__name\n",
    "    \n",
    "    @name.setter\n",
    "    def name(self, name):\n",
    "        if not name:\n",
    "            raise ValueError(\"name must have a value\")\n",
    "        \n",
    "        self.__name = name\n",
    "        \n",
    "dog = Dog(\"Spot\")\n",
    "# should raise exception\n",
    "#dog.name = \"\"\n",
    "\n",
    "print(f\"{dog.name} is fun\")\n",
    "\n",
    "# if you try to access the variable name, it will raise an exception\n",
    "dog.__name"
   ]
  },
  {
   "cell_type": "markdown",
   "metadata": {},
   "source": [
    "#### Inheritance"
   ]
  },
  {
   "cell_type": "code",
   "execution_count": 22,
   "metadata": {},
   "outputs": [
    {
     "name": "stdout",
     "output_type": "stream",
     "text": [
      "2 employees report to David.\n",
      "David has 1 skill(s).\n"
     ]
    }
   ],
   "source": [
    "# create a special class of Employee called Manager that inherits from Employee\n",
    "class Manager(Employee):\n",
    "    def __init__(self, name, title, skills, employees):\n",
    "        Employee.__init__(self, name, title, skills)\n",
    "        self.employees = employees\n",
    "        \n",
    "    def get_employee_count(self):\n",
    "        return len(self.employees)\n",
    "    \n",
    "mgr = Manager(\"David\", \"Cool Guy!\", [\"Scrum\"], [\"Employee1\", \"Employed2\"])\n",
    "print(f\"{mgr.get_employee_count()} employees report to {mgr.name}.\")\n",
    "# get the get_skill_count() method for \"free\"\n",
    "print(f\"{mgr.name} has {mgr.get_skill_count()} skill(s).\")\n"
   ]
  },
  {
   "cell_type": "markdown",
   "metadata": {},
   "source": [
    "### Polymorphism"
   ]
  },
  {
   "cell_type": "code",
   "execution_count": 28,
   "metadata": {},
   "outputs": [
    {
     "name": "stdout",
     "output_type": "stream",
     "text": [
      "hello there, I'm just a Cool guy!\n",
      "hello there, I'm just a Cool Manager!\n",
      "I am among the leaders, so listen to me!\n"
     ]
    }
   ],
   "source": [
    "# create another special class of Employee called Executive\n",
    "class Employee:\n",
    "    # special method to initialize values\n",
    "    # all class methods must pass self as first arg\n",
    "    def __init__(self, name, title, skills):\n",
    "        self.name = name\n",
    "        self.title = title\n",
    "        self.skills = skills\n",
    "        self.location = None  \n",
    "        \n",
    "    def get_skill_count(self):\n",
    "        return len(self.skills)\n",
    "    \n",
    "    def speak(self):\n",
    "        print(f\"hello there, I'm just a {self.title}\")\n",
    "\n",
    "class Manager(Employee):\n",
    "    def __init__(self, name, title, skills, employees):\n",
    "        Employee.__init__(self, name, title, skills)\n",
    "        self.employees = employees\n",
    "        \n",
    "    def get_employee_count(self):\n",
    "        return len(self.employees)\n",
    "\n",
    "class Executive(Employee):\n",
    "    def __init__(self, name, title, skills):\n",
    "        Employee.__init__(self, name, title, skills)\n",
    "        \n",
    "    # override the parennt speak() method\n",
    "    def speak(self):\n",
    "        print(\"I am among the leaders, so listen to me!\")\n",
    "        \n",
    "# now lets creat three types of Employees and store them in a list\n",
    "\n",
    "emps = [\n",
    "    Employee(\"Zahid\", \"Cool guy!\", [\"java\", \"python\", \"C#\"]),\n",
    "    Manager(\"Adam\", \"Cool Manager!\", [\"Scrum\", \"Excel\"], [\"zahid\", \"jen\"]),\n",
    "    Executive(\"David\", \"CFO\", [\"leadership\", \"Finance\"]),\n",
    "]\n",
    "\n",
    "# ask each of them to speak\n",
    "for emp in emps:\n",
    "    emp.speak()\n",
    "    \n",
    "# two things to note here\n",
    "# 1. even though each object was of a different type, \n",
    "#    but since they all inherited from Employee, we can call speak on each\n",
    "# 2. we can ovverride a parent method, otherwise the parent method is called\n"
   ]
  },
  {
   "cell_type": "markdown",
   "metadata": {},
   "source": [
    "#### Interfaces "
   ]
  },
  {
   "cell_type": "code",
   "execution_count": 41,
   "metadata": {},
   "outputs": [
    {
     "name": "stdout",
     "output_type": "stream",
     "text": [
      "woof!\n",
      "quack!\n",
      "walking like a dog\n"
     ]
    },
    {
     "ename": "NotImplementedError",
     "evalue": "Subclass must implement abstract method",
     "output_type": "error",
     "traceback": [
      "\u001b[0;31m---------------------------------------------------------------------------\u001b[0m",
      "\u001b[0;31mNotImplementedError\u001b[0m                       Traceback (most recent call last)",
      "\u001b[0;32m<ipython-input-41-4ea8f61cdf8e>\u001b[0m in \u001b[0;36m<module>\u001b[0;34m\u001b[0m\n\u001b[1;32m     40\u001b[0m \u001b[0mduck\u001b[0m\u001b[0;34m.\u001b[0m\u001b[0mspeak\u001b[0m\u001b[0;34m(\u001b[0m\u001b[0;34m)\u001b[0m\u001b[0;34m\u001b[0m\u001b[0;34m\u001b[0m\u001b[0m\n\u001b[1;32m     41\u001b[0m \u001b[0mdog\u001b[0m\u001b[0;34m.\u001b[0m\u001b[0mwalk\u001b[0m\u001b[0;34m(\u001b[0m\u001b[0;34m)\u001b[0m\u001b[0;34m\u001b[0m\u001b[0;34m\u001b[0m\u001b[0m\n\u001b[0;32m---> 42\u001b[0;31m \u001b[0mduck\u001b[0m\u001b[0;34m.\u001b[0m\u001b[0mwalk\u001b[0m\u001b[0;34m(\u001b[0m\u001b[0;34m)\u001b[0m \u001b[0;31m# the fact that this raises an exception means we must implement this in our \"concrete\" class\u001b[0m\u001b[0;34m\u001b[0m\u001b[0;34m\u001b[0m\u001b[0m\n\u001b[0m",
      "\u001b[0;32m<ipython-input-41-4ea8f61cdf8e>\u001b[0m in \u001b[0;36mwalk\u001b[0;34m(self)\u001b[0m\n\u001b[1;32m      6\u001b[0m \u001b[0;34m\u001b[0m\u001b[0m\n\u001b[1;32m      7\u001b[0m     \u001b[0;32mdef\u001b[0m \u001b[0mwalk\u001b[0m\u001b[0;34m(\u001b[0m\u001b[0mself\u001b[0m\u001b[0;34m)\u001b[0m\u001b[0;34m:\u001b[0m\u001b[0;34m\u001b[0m\u001b[0;34m\u001b[0m\u001b[0m\n\u001b[0;32m----> 8\u001b[0;31m         \u001b[0;32mraise\u001b[0m \u001b[0mNotImplementedError\u001b[0m\u001b[0;34m(\u001b[0m\u001b[0;34m\"Subclass must implement abstract method\"\u001b[0m\u001b[0;34m)\u001b[0m\u001b[0;34m\u001b[0m\u001b[0;34m\u001b[0m\u001b[0m\n\u001b[0m\u001b[1;32m      9\u001b[0m \u001b[0;34m\u001b[0m\u001b[0m\n\u001b[1;32m     10\u001b[0m \u001b[0;34m\u001b[0m\u001b[0m\n",
      "\u001b[0;31mNotImplementedError\u001b[0m: Subclass must implement abstract method"
     ]
    }
   ],
   "source": [
    "# python doesn't really support interfaces but it's possible to mimic\n",
    "\n",
    "# create a class that has no concrete methods, but defines all the methods\n",
    "# none of the methods can be called directly, so each concrete class must implement\n",
    "\n",
    "class AnimalBehavior:    \n",
    "    def speak(self):\n",
    "        raise NotImplementedError(\"Subclass must implement abstract method\")\n",
    "        \n",
    "    def walk(self):\n",
    "        raise NotImplementedError(\"Subclass must implement abstract method\")\n",
    "\n",
    "        \n",
    "class Animal(AnimalBehavior):\n",
    "    def __init__(self, name):\n",
    "        self.name = name\n",
    "\n",
    "    \n",
    "class Dog(Animal):\n",
    "    def __init__(self, name):\n",
    "        Animal.__init__(self, name)\n",
    "    \n",
    "    def speak(self):\n",
    "        print(\"woof!\")\n",
    "    \n",
    "    def walk(self):\n",
    "        print(\"walking like a dog\")\n",
    "        \n",
    "class Duck(Animal):\n",
    "    def __init__(self, name):\n",
    "        Animal.__init__(self, name)\n",
    "    \n",
    "    def speak(self):\n",
    "        print(\"quack!\")\n",
    "    \n",
    "    # lets not override the walk method\n",
    "        \n",
    "\n",
    "dog = Dog(\"Spot\")\n",
    "duck = Duck(\"Donald\")\n",
    "\n",
    "dog.speak()\n",
    "duck.speak()\n",
    "dog.walk()\n",
    "duck.walk() # the fact that this raises an exception means we must implement this in our \"concrete\" class"
   ]
  },
  {
   "cell_type": "markdown",
   "metadata": {},
   "source": [
    "#### Special methods"
   ]
  },
  {
   "cell_type": "code",
   "execution_count": 42,
   "metadata": {},
   "outputs": [
    {
     "data": {
      "text/plain": [
       "['__module__',\n",
       " '__dict__',\n",
       " '__weakref__',\n",
       " '__doc__',\n",
       " '__repr__',\n",
       " '__hash__',\n",
       " '__str__',\n",
       " '__getattribute__',\n",
       " '__setattr__',\n",
       " '__delattr__',\n",
       " '__lt__',\n",
       " '__le__',\n",
       " '__eq__',\n",
       " '__ne__',\n",
       " '__gt__',\n",
       " '__ge__',\n",
       " '__init__',\n",
       " '__new__',\n",
       " '__reduce_ex__',\n",
       " '__reduce__',\n",
       " '__subclasshook__',\n",
       " '__init_subclass__',\n",
       " '__format__',\n",
       " '__sizeof__',\n",
       " '__dir__',\n",
       " '__class__']"
      ]
     },
     "execution_count": 42,
     "metadata": {},
     "output_type": "execute_result"
    }
   ],
   "source": [
    "# remember that each class is derived from python's object class\n",
    "# so by default you get to inherit several methods\n",
    "class Employee:\n",
    "    pass\n",
    "\n",
    "emp = Employee()\n",
    "emp.__dir__() \n",
    "\n",
    "# notice __init__ ... this is why we can have this method in our own class\n"
   ]
  },
  {
   "cell_type": "code",
   "execution_count": 55,
   "metadata": {},
   "outputs": [
    {
     "name": "stdout",
     "output_type": "stream",
     "text": [
      "None\n",
      "The name is zahid\n",
      "5\n",
      "zahid has been deleted\n"
     ]
    }
   ],
   "source": [
    "# so we can override any of these\n",
    "\n",
    "class Employee:\n",
    "    def __init__(self, name):\n",
    "        self.name = name\n",
    "    \n",
    "    def __str__(self):\n",
    "        return \"The name is \" + self.name\n",
    "    \n",
    "    # special method that only python knowns how to handle\n",
    "    # will be called when the objet is \"deleted\"\n",
    "    def __del__(self):\n",
    "        print(self.name + \" has been deleted\")\n",
    "        \n",
    "    def __len__(self):\n",
    "        return len(self.name)\n",
    "    \n",
    "    def __dir__(self):\n",
    "        pass # will return None\n",
    "    \n",
    "emp = Employee(\"zahid\")\n",
    "print(emp.__dir__())\n",
    "print(str(emp))  # calls the __str__()\n",
    "print(len(emp))  # calls the __len__()\n",
    "del emp          # python calls __del__()\n",
    "# emp is no longer a reference"
   ]
  },
  {
   "cell_type": "code",
   "execution_count": null,
   "metadata": {},
   "outputs": [],
   "source": []
  }
 ],
 "metadata": {
  "kernelspec": {
   "display_name": "Python 3",
   "language": "python",
   "name": "python3"
  },
  "language_info": {
   "codemirror_mode": {
    "name": "ipython",
    "version": 3
   },
   "file_extension": ".py",
   "mimetype": "text/x-python",
   "name": "python",
   "nbconvert_exporter": "python",
   "pygments_lexer": "ipython3",
   "version": "3.7.4"
  }
 },
 "nbformat": 4,
 "nbformat_minor": 4
}
