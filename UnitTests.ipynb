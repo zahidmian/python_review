{
 "cells": [
  {
   "cell_type": "markdown",
   "metadata": {},
   "source": [
    "### Unit Tests"
   ]
  },
  {
   "cell_type": "code",
   "execution_count": 29,
   "metadata": {},
   "outputs": [
    {
     "data": {
      "text/plain": [
       "81"
      ]
     },
     "execution_count": 29,
     "metadata": {},
     "output_type": "execute_result"
    }
   ],
   "source": [
    "class MyMath():\n",
    "    def power(a, b):\n",
    "        return a ** b\n",
    "    \n",
    "    def add(a, b):\n",
    "        return a\n",
    "    \n",
    "    def sub(a, b):\n",
    "        return a - b\n",
    "    \n",
    "    def div(a, b):\n",
    "        if b == 0:\n",
    "            raise ZeroDivisionError\n",
    "        \n",
    "        return a/b\n",
    "    \n",
    "    def mult(a, b):\n",
    "        # it's a good practice to create dummy methods \n",
    "        # and let your unit tests fail, so you know what's left to implement\n",
    "        pass\n",
    "    \n",
    "MyMath.power(3,4)\n",
    "    \n"
   ]
  },
  {
   "cell_type": "code",
   "execution_count": 5,
   "metadata": {},
   "outputs": [],
   "source": []
  },
  {
   "cell_type": "code",
   "execution_count": 35,
   "metadata": {},
   "outputs": [
    {
     "name": "stderr",
     "output_type": "stream",
     "text": [
      "F..F..\n",
      "======================================================================\n",
      "FAIL: test_add (__main__.TestMyMath)\n",
      "----------------------------------------------------------------------\n",
      "Traceback (most recent call last):\n",
      "  File \"<ipython-input-35-d3655ff2af1b>\", line 16, in test_add\n",
      "    self.assertEqual(result, expected)\n",
      "AssertionError: 5 != 7\n",
      "\n",
      "======================================================================\n",
      "FAIL: test_mult (__main__.TestMyMath)\n",
      "----------------------------------------------------------------------\n",
      "Traceback (most recent call last):\n",
      "  File \"<ipython-input-35-d3655ff2af1b>\", line 40, in test_mult\n",
      "    self.assertEqual(result, expected)\n",
      "AssertionError: None != 10\n",
      "\n",
      "----------------------------------------------------------------------\n",
      "Ran 6 tests in 0.004s\n",
      "\n",
      "FAILED (failures=2)\n"
     ]
    }
   ],
   "source": [
    "import unittest \n",
    "\n",
    "class TestMyMath(unittest.TestCase):\n",
    "    def setUp(self):\n",
    "        self.a = 5\n",
    "        self.b = 2\n",
    "        \n",
    "    def test_power(self):\n",
    "        expected = 25\n",
    "        result = MyMath.power(self.a, self.b)\n",
    "        self.assertEqual(result, expected)\n",
    "\n",
    "    def test_add(self):\n",
    "        expected = 7\n",
    "        result = MyMath.add(self.a, self.b)\n",
    "        self.assertEqual(result, expected)\n",
    "\n",
    "    def test_sub(self):\n",
    "        expected = 3\n",
    "        result = MyMath.sub(self.a, self.b)\n",
    "        self.assertEqual(result, expected)\n",
    "        \n",
    "    def test_div(self):\n",
    "        expected = 2.5\n",
    "        result = MyMath.div(self.a, self.b)\n",
    "        # add multiple asserts\n",
    "        self.assertEqual(result, expected)\n",
    "        self.assertIsNotNone(result, expected)\n",
    "        self.assertIsInstance(result, float)\n",
    "        \n",
    "    def test_div_with_zero_divisor(self):\n",
    "        with self.assertRaises(Exception) as context:\n",
    "            MyMath.div(self.a, 0)\n",
    "            \n",
    "        self.assertTrue(ZeroDivisionError, context.exception)\n",
    "        \n",
    "    def test_mult(self):\n",
    "        expected = 10\n",
    "        result = MyMath.mult(self.a, self.b)\n",
    "        self.assertEqual(result, expected)\n",
    "        \n",
    "if __name__ == '__main__':\n",
    "    unittest.main(argv=['first-arg-is-ignored'], exit=False)"
   ]
  },
  {
   "cell_type": "code",
   "execution_count": 25,
   "metadata": {},
   "outputs": [],
   "source": [
    "# this is good because we have a bug in our class add method\n",
    "# and we have another method that needs to be imlemented"
   ]
  },
  {
   "cell_type": "markdown",
   "metadata": {},
   "source": [
    "#### Commonly used assert methods\n",
    "|Method|Checks that|\n",
    "|-|-|\n",
    "|assertEqual(a,b)|a == b|\n",
    "|assertNotEqual(a,b)|a != b|\n",
    "|assertTrue(x)|bool(x) is True|\n",
    "|assertFalse(x)|bool(x) is False|\n",
    "|assertIs(a,b)|a is b|\n",
    "|assertIsNot(a,b)|a is not b|\n",
    "|assertIsNone(x)|x is None|\n",
    "|assertIn(a,b)|a in b|\n",
    "|assertNotIn(a,b)|a not in b|\n",
    "|assertIsInstance(a,b)|isinstance(a,b)|\n",
    "|assertNotInstance(a,b)|not isinstance(a,b)|"
   ]
  },
  {
   "cell_type": "markdown",
   "metadata": {},
   "source": [
    "#### Mock Objects"
   ]
  },
  {
   "cell_type": "code",
   "execution_count": 28,
   "metadata": {},
   "outputs": [],
   "source": [
    "def readFromFile(filename):\n",
    "    infile = open(filename, \"r\")\n",
    "    line = infile.readline()\n",
    "    return line\n"
   ]
  },
  {
   "cell_type": "code",
   "execution_count": 29,
   "metadata": {},
   "outputs": [
    {
     "ename": "AssertionError",
     "evalue": "Expected 'mock' to be called once. Called 0 times.",
     "output_type": "error",
     "traceback": [
      "\u001b[0;31m---------------------------------------------------------------------------\u001b[0m",
      "\u001b[0;31mAssertionError\u001b[0m                            Traceback (most recent call last)",
      "\u001b[0;32m<ipython-input-29-717ece39883a>\u001b[0m in \u001b[0;36m<module>\u001b[0;34m\u001b[0m\n\u001b[1;32m     16\u001b[0m     \u001b[0;32massert\u001b[0m \u001b[0mresult\u001b[0m \u001b[0;34m==\u001b[0m \u001b[0;34m\"This is a line from the file\"\u001b[0m\u001b[0;34m\u001b[0m\u001b[0;34m\u001b[0m\u001b[0m\n\u001b[1;32m     17\u001b[0m \u001b[0;34m\u001b[0m\u001b[0m\n\u001b[0;32m---> 18\u001b[0;31m \u001b[0mtest_returnsString\u001b[0m\u001b[0;34m(\u001b[0m\u001b[0;34m)\u001b[0m\u001b[0;34m\u001b[0m\u001b[0;34m\u001b[0m\u001b[0m\n\u001b[0m",
      "\u001b[0;32m/usr/local/Cellar/python/3.7.4_1/Frameworks/Python.framework/Versions/3.7/lib/python3.7/unittest/mock.py\u001b[0m in \u001b[0;36mpatched\u001b[0;34m(*args, **keywargs)\u001b[0m\n\u001b[1;32m   1207\u001b[0m \u001b[0;34m\u001b[0m\u001b[0m\n\u001b[1;32m   1208\u001b[0m                 \u001b[0margs\u001b[0m \u001b[0;34m+=\u001b[0m \u001b[0mtuple\u001b[0m\u001b[0;34m(\u001b[0m\u001b[0mextra_args\u001b[0m\u001b[0;34m)\u001b[0m\u001b[0;34m\u001b[0m\u001b[0;34m\u001b[0m\u001b[0m\n\u001b[0;32m-> 1209\u001b[0;31m                 \u001b[0;32mreturn\u001b[0m \u001b[0mfunc\u001b[0m\u001b[0;34m(\u001b[0m\u001b[0;34m*\u001b[0m\u001b[0margs\u001b[0m\u001b[0;34m,\u001b[0m \u001b[0;34m**\u001b[0m\u001b[0mkeywargs\u001b[0m\u001b[0;34m)\u001b[0m\u001b[0;34m\u001b[0m\u001b[0;34m\u001b[0m\u001b[0m\n\u001b[0m\u001b[1;32m   1210\u001b[0m             \u001b[0;32mexcept\u001b[0m\u001b[0;34m:\u001b[0m\u001b[0;34m\u001b[0m\u001b[0;34m\u001b[0m\u001b[0m\n\u001b[1;32m   1211\u001b[0m                 if (patching not in entered_patchers and\n",
      "\u001b[0;32m<ipython-input-29-717ece39883a>\u001b[0m in \u001b[0;36mtest_returnsString\u001b[0;34m(monkeypatch)\u001b[0m\n\u001b[1;32m     12\u001b[0m     \u001b[0mmonkeypatch\u001b[0m\u001b[0;34m.\u001b[0m\u001b[0msetattr\u001b[0m\u001b[0;34m(\u001b[0m\u001b[0;34m\"builtins.open\"\u001b[0m\u001b[0;34m,\u001b[0m \u001b[0mmock_open\u001b[0m\u001b[0;34m)\u001b[0m\u001b[0;34m\u001b[0m\u001b[0;34m\u001b[0m\u001b[0m\n\u001b[1;32m     13\u001b[0m     \u001b[0mresult\u001b[0m \u001b[0;34m=\u001b[0m \u001b[0mreadFromFile\u001b[0m\u001b[0;34m(\u001b[0m\u001b[0;34m\"hello.txt\"\u001b[0m\u001b[0;34m)\u001b[0m\u001b[0;34m\u001b[0m\u001b[0;34m\u001b[0m\u001b[0m\n\u001b[0;32m---> 14\u001b[0;31m     \u001b[0mmock_open\u001b[0m\u001b[0;34m.\u001b[0m\u001b[0massert_called_once_with\u001b[0m\u001b[0;34m(\u001b[0m\u001b[0;34m\"hello.txt\"\u001b[0m\u001b[0;34m)\u001b[0m\u001b[0;34m\u001b[0m\u001b[0;34m\u001b[0m\u001b[0m\n\u001b[0m\u001b[1;32m     15\u001b[0m     \u001b[0;31m#mock_open.assert_called()\u001b[0m\u001b[0;34m\u001b[0m\u001b[0;34m\u001b[0m\u001b[0;34m\u001b[0m\u001b[0m\n\u001b[1;32m     16\u001b[0m     \u001b[0;32massert\u001b[0m \u001b[0mresult\u001b[0m \u001b[0;34m==\u001b[0m \u001b[0;34m\"This is a line from the file\"\u001b[0m\u001b[0;34m\u001b[0m\u001b[0;34m\u001b[0m\u001b[0m\n",
      "\u001b[0;32m/usr/local/Cellar/python/3.7.4_1/Frameworks/Python.framework/Versions/3.7/lib/python3.7/unittest/mock.py\u001b[0m in \u001b[0;36massert_called_once_with\u001b[0;34m(_mock_self, *args, **kwargs)\u001b[0m\n\u001b[1;32m    842\u001b[0m             msg = (\"Expected '%s' to be called once. Called %s times.\" %\n\u001b[1;32m    843\u001b[0m                    (self._mock_name or 'mock', self.call_count))\n\u001b[0;32m--> 844\u001b[0;31m             \u001b[0;32mraise\u001b[0m \u001b[0mAssertionError\u001b[0m\u001b[0;34m(\u001b[0m\u001b[0mmsg\u001b[0m\u001b[0;34m)\u001b[0m\u001b[0;34m\u001b[0m\u001b[0;34m\u001b[0m\u001b[0m\n\u001b[0m\u001b[1;32m    845\u001b[0m         \u001b[0;32mreturn\u001b[0m \u001b[0mself\u001b[0m\u001b[0;34m.\u001b[0m\u001b[0massert_called_with\u001b[0m\u001b[0;34m(\u001b[0m\u001b[0;34m*\u001b[0m\u001b[0margs\u001b[0m\u001b[0;34m,\u001b[0m \u001b[0;34m**\u001b[0m\u001b[0mkwargs\u001b[0m\u001b[0;34m)\u001b[0m\u001b[0;34m\u001b[0m\u001b[0;34m\u001b[0m\u001b[0m\n\u001b[1;32m    846\u001b[0m \u001b[0;34m\u001b[0m\u001b[0m\n",
      "\u001b[0;31mAssertionError\u001b[0m: Expected 'mock' to be called once. Called 0 times."
     ]
    }
   ],
   "source": [
    "import pytest\n",
    "from pytest import raises\n",
    "from unittest.mock import MagicMock\n",
    "from unittest import mock\n",
    "\n",
    "@mock.patch('builtins.open')\n",
    "def test_returnsString(monkeypatch):\n",
    "    mock_file = MagicMock()\n",
    "    mock_file.readline = MagicMock()\n",
    "    mock_file.readline.return_value = \"This is a line from the file\"\n",
    "    mock_open = MagicMock(return_value=mock_file)\n",
    "    monkeypatch.setattr(\"builtins.open\", mock_open)\n",
    "    result = readFromFile(\"hello.txt\")\n",
    "    mock_open.assert_called_once_with(\"hello.txt\")\n",
    "    #mock_open.assert_called()\n",
    "    assert result == \"This is a line from the file\"\n",
    "\n",
    "test_returnsString()\n"
   ]
  },
  {
   "cell_type": "code",
   "execution_count": null,
   "metadata": {},
   "outputs": [],
   "source": [
    "import unittest \n",
    "\n",
    "class TestMyClass(unittest.TestCase):\n",
    "        \n",
    "    def test_readFromFile(self):\n",
    "        expected = 2.5\n",
    "        result = MyMath.div(self.a, self.b)\n",
    "        # add multiple asserts\n",
    "        self.assertEqual(result, expected)\n",
    "        self.assertIsNotNone(result, expected)\n",
    "        self.assertIsInstance(result, float)\n",
    "                \n",
    "if __name__ == '__main__':\n",
    "    unittest.main(argv=['first-arg-is-ignored'], exit=False)"
   ]
  }
 ],
 "metadata": {
  "kernelspec": {
   "display_name": "Python 3",
   "language": "python",
   "name": "python3"
  },
  "language_info": {
   "codemirror_mode": {
    "name": "ipython",
    "version": 3
   },
   "file_extension": ".py",
   "mimetype": "text/x-python",
   "name": "python",
   "nbconvert_exporter": "python",
   "pygments_lexer": "ipython3",
   "version": "3.7.4"
  }
 },
 "nbformat": 4,
 "nbformat_minor": 4
}
