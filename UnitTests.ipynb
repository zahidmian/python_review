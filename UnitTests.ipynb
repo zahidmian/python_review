{
 "cells": [
  {
   "cell_type": "markdown",
   "metadata": {},
   "source": [
    "### Unit Tests"
   ]
  },
  {
   "cell_type": "code",
   "execution_count": 29,
   "metadata": {},
   "outputs": [
    {
     "data": {
      "text/plain": [
       "81"
      ]
     },
     "execution_count": 29,
     "metadata": {},
     "output_type": "execute_result"
    }
   ],
   "source": [
    "class MyMath():\n",
    "    def power(a, b):\n",
    "        return a ** b\n",
    "    \n",
    "    def add(a, b):\n",
    "        return a\n",
    "    \n",
    "    def sub(a, b):\n",
    "        return a - b\n",
    "    \n",
    "    def div(a, b):\n",
    "        if b == 0:\n",
    "            raise ZeroDivisionError\n",
    "        \n",
    "        return a/b\n",
    "    \n",
    "    def mult(a, b):\n",
    "        # it's a good practice to create dummy methods \n",
    "        # and let your unit tests fail, so you know what's left to implement\n",
    "        pass\n",
    "    \n",
    "MyMath.power(3,4)\n",
    "    \n"
   ]
  },
  {
   "cell_type": "code",
   "execution_count": 5,
   "metadata": {},
   "outputs": [],
   "source": []
  },
  {
   "cell_type": "code",
   "execution_count": 35,
   "metadata": {},
   "outputs": [
    {
     "name": "stderr",
     "output_type": "stream",
     "text": [
      "F..F..\n",
      "======================================================================\n",
      "FAIL: test_add (__main__.TestMyMath)\n",
      "----------------------------------------------------------------------\n",
      "Traceback (most recent call last):\n",
      "  File \"<ipython-input-35-d3655ff2af1b>\", line 16, in test_add\n",
      "    self.assertEqual(result, expected)\n",
      "AssertionError: 5 != 7\n",
      "\n",
      "======================================================================\n",
      "FAIL: test_mult (__main__.TestMyMath)\n",
      "----------------------------------------------------------------------\n",
      "Traceback (most recent call last):\n",
      "  File \"<ipython-input-35-d3655ff2af1b>\", line 40, in test_mult\n",
      "    self.assertEqual(result, expected)\n",
      "AssertionError: None != 10\n",
      "\n",
      "----------------------------------------------------------------------\n",
      "Ran 6 tests in 0.004s\n",
      "\n",
      "FAILED (failures=2)\n"
     ]
    }
   ],
   "source": [
    "import unittest \n",
    "\n",
    "class TestMyMath(unittest.TestCase):\n",
    "    def setUp(self):\n",
    "        self.a = 5\n",
    "        self.b = 2\n",
    "        \n",
    "    def test_power(self):\n",
    "        expected = 25\n",
    "        result = MyMath.power(self.a, self.b)\n",
    "        self.assertEqual(result, expected)\n",
    "\n",
    "    def test_add(self):\n",
    "        expected = 7\n",
    "        result = MyMath.add(self.a, self.b)\n",
    "        self.assertEqual(result, expected)\n",
    "\n",
    "    def test_sub(self):\n",
    "        expected = 3\n",
    "        result = MyMath.sub(self.a, self.b)\n",
    "        self.assertEqual(result, expected)\n",
    "        \n",
    "    def test_div(self):\n",
    "        expected = 2.5\n",
    "        result = MyMath.div(self.a, self.b)\n",
    "        # add multiple asserts\n",
    "        self.assertEqual(result, expected)\n",
    "        self.assertIsNotNone(result, expected)\n",
    "        self.assertIsInstance(result, float)\n",
    "        \n",
    "    def test_div_with_zero_divisor(self):\n",
    "        with self.assertRaises(Exception) as context:\n",
    "            MyMath.div(self.a, 0)\n",
    "            \n",
    "        self.assertTrue(ZeroDivisionError, context.exception)\n",
    "        \n",
    "    def test_mult(self):\n",
    "        expected = 10\n",
    "        result = MyMath.mult(self.a, self.b)\n",
    "        self.assertEqual(result, expected)\n",
    "        \n",
    "if __name__ == '__main__':\n",
    "    unittest.main(argv=['first-arg-is-ignored'], exit=False)"
   ]
  },
  {
   "cell_type": "code",
   "execution_count": 25,
   "metadata": {},
   "outputs": [],
   "source": [
    "# this is good because we have a bug in our class add method\n",
    "# and we have another method that needs to be imlemented"
   ]
  },
  {
   "cell_type": "markdown",
   "metadata": {},
   "source": [
    "#### Commonly used assert methods\n",
    "|Method|Checks that|\n",
    "|-|-|\n",
    "|assertEqual(a,b)|a == b|\n",
    "|assertNotEqual(a,b)|a != b|\n",
    "|assertTrue(x)|bool(x) is True|\n",
    "|assertFalse(x)|bool(x) is False|\n",
    "|assertIs(a,b)|a is b|\n",
    "|assertIsNot(a,b)|a is not b|\n",
    "|assertIsNone(x)|x is None|\n",
    "|assertIn(a,b)|a in b|\n",
    "|assertNotIn(a,b)|a not in b|\n",
    "|assertIsInstance(a,b)|isinstance(a,b)|\n",
    "|assertNotInstance(a,b)|not isinstance(a,b)|"
   ]
  },
  {
   "cell_type": "code",
   "execution_count": null,
   "metadata": {},
   "outputs": [],
   "source": []
  }
 ],
 "metadata": {
  "kernelspec": {
   "display_name": "Python 3",
   "language": "python",
   "name": "python3"
  },
  "language_info": {
   "codemirror_mode": {
    "name": "ipython",
    "version": 3
   },
   "file_extension": ".py",
   "mimetype": "text/x-python",
   "name": "python",
   "nbconvert_exporter": "python",
   "pygments_lexer": "ipython3",
   "version": "3.7.4"
  }
 },
 "nbformat": 4,
 "nbformat_minor": 4
}
