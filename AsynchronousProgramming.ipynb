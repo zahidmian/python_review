{
 "cells": [
  {
   "cell_type": "code",
   "execution_count": 1,
   "metadata": {},
   "outputs": [],
   "source": [
    "import concurrent.futures\n",
    "import time"
   ]
  },
  {
   "cell_type": "code",
   "execution_count": 2,
   "metadata": {},
   "outputs": [],
   "source": [
    "number_list = list(range(1, 11))"
   ]
  },
  {
   "cell_type": "code",
   "execution_count": 13,
   "metadata": {},
   "outputs": [],
   "source": [
    "# impractical function that counts from 0 to 10 million and then returns a product of two numbers (i*number)\n",
    "def count(number):\n",
    "    for i in range(0,10000000):\n",
    "        i += 1\n",
    "    return i*number"
   ]
  },
  {
   "cell_type": "code",
   "execution_count": 37,
   "metadata": {},
   "outputs": [],
   "source": [
    "# this function calls count and prints the result \n",
    "def evaluate(item):\n",
    "    result_item = count(item)\n",
    "    print('Item %s, result %s' % (item, result_item))\n",
    "    return result_item"
   ]
  },
  {
   "cell_type": "markdown",
   "metadata": {},
   "source": [
    "#### Sequential / synchronously"
   ]
  },
  {
   "cell_type": "code",
   "execution_count": 38,
   "metadata": {},
   "outputs": [
    {
     "name": "stdout",
     "output_type": "stream",
     "text": [
      "Item 1, result 10000000\n",
      "Item 2, result 20000000\n",
      "Item 3, result 30000000\n",
      "Item 4, result 40000000\n",
      "Item 5, result 50000000\n",
      "Item 6, result 60000000\n",
      "Item 7, result 70000000\n",
      "Item 8, result 80000000\n",
      "Item 9, result 90000000\n",
      "Item 10, result 100000000\n",
      "Sequential Execution in 5.089225718999842 seconds\n"
     ]
    }
   ],
   "source": [
    "# this snippet calls the evaluate method synchronously \n",
    "start_time = time.perf_counter()\n",
    "for item in number_list:\n",
    "    evaluate(item)\n",
    "    \n",
    "print(f'Sequential Execution in {(time.perf_counter() - start_time)} seconds')\n",
    "\n",
    "# on my machine it took 4.84 seconds"
   ]
  },
  {
   "cell_type": "markdown",
   "metadata": {},
   "source": [
    "#### Pool class"
   ]
  },
  {
   "cell_type": "code",
   "execution_count": 46,
   "metadata": {},
   "outputs": [
    {
     "name": "stdout",
     "output_type": "stream",
     "text": [
      "Item 2, result 20000000\n",
      "Item 4, result 40000000\n",
      "Item 1, result 10000000\n",
      "Item 5, result 50000000\n",
      "Item 3, result 30000000\n",
      "Item 9, result 90000000\n",
      "Item 10, result 100000000\n",
      "Item 7, result 70000000\n",
      "Item 8, result 80000000\n",
      "Item 6, result 60000000\n",
      "[10000000, 20000000, 30000000, 40000000, 50000000, 60000000, 70000000, 80000000, 90000000, 100000000]\n",
      "Sequential Execution in 1.1557320900001287 seconds\n"
     ]
    }
   ],
   "source": [
    "from multiprocessing import Pool\n",
    "\n",
    "start_time = time.perf_counter()\n",
    "if __name__ == '__main__':\n",
    "    with Pool(5) as p:\n",
    "        print(p.map(evaluate, number_list))\n",
    "print(f'Sequential Execution in {(time.perf_counter() - start_time)} seconds')"
   ]
  },
  {
   "cell_type": "markdown",
   "metadata": {},
   "source": [
    "#### Thread pool with five workers"
   ]
  },
  {
   "cell_type": "code",
   "execution_count": 21,
   "metadata": {},
   "outputs": [
    {
     "name": "stdout",
     "output_type": "stream",
     "text": [
      "Item 1, result 10000000\n",
      "Item 2, result 20000000\n",
      "Item 4, result 40000000\n",
      "Item 3, result 30000000\n",
      "Item 5, result 50000000\n",
      "Item 6, result 60000000Item 8, result 80000000\n",
      "\n",
      "Item 7, result 70000000\n",
      "Item 9, result 90000000\n",
      "Item 10, result 100000000\n",
      "Sequential Execution in 5.017712871000072 seconds\n"
     ]
    }
   ],
   "source": [
    "# now lets use the ThreadPoolExecutor with 5 workers\n",
    "start_time = time.perf_counter()\n",
    "with concurrent.futures.ThreadPoolExecutor(max_workers=5) as executor:\n",
    "    for item in number_list:\n",
    "        executor.submit(evaluate, item)\n",
    "print(f'Sequential Execution in {(time.perf_counter() - start_time)} seconds')\n",
    "\n",
    "# on my machine it took 5.01 seconds"
   ]
  },
  {
   "cell_type": "markdown",
   "metadata": {},
   "source": [
    "#### Process pool with five workers"
   ]
  },
  {
   "cell_type": "code",
   "execution_count": 27,
   "metadata": {},
   "outputs": [
    {
     "name": "stdout",
     "output_type": "stream",
     "text": [
      "Item 5, result 50000000\n",
      "Item 2, result 20000000\n",
      "Item 3, result 30000000\n",
      "Item 4, result 40000000\n",
      "Item 1, result 10000000\n",
      "Item 10, result 100000000\n",
      "Item 8, result 80000000\n",
      "Item 6, result 60000000\n",
      "Item 7, result 70000000\n",
      "Item 9, result 90000000\n",
      "Sequential Execution in 1.120922174000043 seconds\n"
     ]
    }
   ],
   "source": [
    "# now lets use the ProcessPoolExecutor\n",
    "\n",
    "start_time = time.perf_counter()\n",
    "with concurrent.futures.ProcessPoolExecutor(max_workers=5) as executor:\n",
    "    for item in number_list:\n",
    "        executor.submit(evaluate, item)\n",
    "print(f'Sequential Execution in {(time.perf_counter() - start_time)} seconds')\n",
    "\n",
    "# on my machine it took 1.12 seconds"
   ]
  },
  {
   "cell_type": "markdown",
   "metadata": {},
   "source": [
    "#### Why such a big difference between ThreadPool and ProcessPool?  \n",
    "The main reason is that, unlike threads, pool of processes do not require any synchronization mechanisms."
   ]
  },
  {
   "cell_type": "markdown",
   "metadata": {},
   "source": [
    "#### Example of fetching urls with ThreadPool and ProcessPool  "
   ]
  },
  {
   "cell_type": "code",
   "execution_count": 32,
   "metadata": {},
   "outputs": [
    {
     "name": "stdout",
     "output_type": "stream",
     "text": [
      "'https://www.google.com/' page is 13544 bytes\n",
      "'http://this-domain-does-not-exist-i-think.com/' generated an exception: <urlopen error [Errno 8] nodename nor servname provided, or not known>\n",
      "'https://www.foxnews.com' page is 322984 bytes\n",
      "'https://www.espn.com' page is 456840 bytes\n",
      "'https://www.cnn.com/' page is 1124679 bytes\n",
      "'https://www.yahoo.com' page is 409066 bytes\n",
      "Sequential Execution in 0.8635887099999309 seconds\n"
     ]
    }
   ],
   "source": [
    "import concurrent.futures\n",
    "import urllib.request\n",
    " \n",
    "URLS = ['https://www.google.com/',\n",
    "        'https://www.cnn.com/',\n",
    "        'https://www.foxnews.com',\n",
    "        'https://www.espn.com',\n",
    "        'https://www.yahoo.com',\n",
    "        'http://this-domain-does-not-exist-i-think.com/']\n",
    " \n",
    "# Retrieve a single page and report the url and contents\n",
    "def load_url(url, timeout):\n",
    "    with urllib.request.urlopen(url, timeout=timeout) as conn:\n",
    "        return conn.read()\n",
    "    \n",
    "start_time = time.perf_counter() \n",
    "# We can use a with statement to ensure threads are cleaned up promptly\n",
    "with concurrent.futures.ThreadPoolExecutor(max_workers=5) as executor:\n",
    "    # Start the load operations and mark each future with its URL\n",
    "    future_to_url = {executor.submit(load_url, url, 60): url for url in URLS}\n",
    "    for future in concurrent.futures.as_completed(future_to_url):\n",
    "        url = future_to_url[future]\n",
    "        try:\n",
    "            data = future.result()\n",
    "        except Exception as exc:\n",
    "            print('%r generated an exception: %s' % (url, exc))\n",
    "        else:\n",
    "            print('%r page is %d bytes' % (url, len(data)))\n",
    "            \n",
    "print(f'Sequential Execution in {(time.perf_counter() - start_time)} seconds')"
   ]
  },
  {
   "cell_type": "code",
   "execution_count": 33,
   "metadata": {},
   "outputs": [
    {
     "name": "stdout",
     "output_type": "stream",
     "text": [
      "'https://www.google.com/' page is 12824 bytes\n",
      "'http://this-domain-does-not-exist-i-think.com/' generated an exception: <urlopen error [Errno 8] nodename nor servname provided, or not known>\n",
      "'https://www.foxnews.com' page is 322984 bytes\n",
      "'https://www.espn.com' page is 456842 bytes\n",
      "'https://www.cnn.com/' page is 1124679 bytes\n",
      "'https://www.yahoo.com' page is 405484 bytes\n",
      "Sequential Execution in 0.8694377980000354 seconds\n"
     ]
    }
   ],
   "source": [
    "import concurrent.futures\n",
    "import urllib.request\n",
    " \n",
    "URLS = ['https://www.google.com/',\n",
    "        'https://www.cnn.com/',\n",
    "        'https://www.foxnews.com',\n",
    "        'https://www.espn.com',\n",
    "        'https://www.yahoo.com',\n",
    "        'http://this-domain-does-not-exist-i-think.com/']\n",
    " \n",
    "# Retrieve a single page and report the url and contents\n",
    "def load_url(url, timeout):\n",
    "    with urllib.request.urlopen(url, timeout=timeout) as conn:\n",
    "        return conn.read()\n",
    "    \n",
    "start_time = time.perf_counter() \n",
    "# We can use a with statement to ensure threads are cleaned up promptly\n",
    "with concurrent.futures.ProcessPoolExecutor(max_workers=5) as executor:\n",
    "    # Start the load operations and mark each future with its URL\n",
    "    future_to_url = {executor.submit(load_url, url, 60): url for url in URLS}\n",
    "    for future in concurrent.futures.as_completed(future_to_url):\n",
    "        url = future_to_url[future]\n",
    "        try:\n",
    "            data = future.result()\n",
    "        except Exception as exc:\n",
    "            print('%r generated an exception: %s' % (url, exc))\n",
    "        else:\n",
    "            print('%r page is %d bytes' % (url, len(data)))\n",
    "            \n",
    "print(f'Sequential Execution in {(time.perf_counter() - start_time)} seconds')"
   ]
  },
  {
   "cell_type": "code",
   "execution_count": null,
   "metadata": {},
   "outputs": [],
   "source": []
  }
 ],
 "metadata": {
  "kernelspec": {
   "display_name": "Python 3",
   "language": "python",
   "name": "python3"
  },
  "language_info": {
   "codemirror_mode": {
    "name": "ipython",
    "version": 3
   },
   "file_extension": ".py",
   "mimetype": "text/x-python",
   "name": "python",
   "nbconvert_exporter": "python",
   "pygments_lexer": "ipython3",
   "version": "3.7.4"
  }
 },
 "nbformat": 4,
 "nbformat_minor": 4
}
