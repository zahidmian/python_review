{
 "cells": [
  {
   "cell_type": "markdown",
   "metadata": {},
   "source": [
    "### Functions"
   ]
  },
  {
   "cell_type": "markdown",
   "metadata": {},
   "source": [
    "#### Methods are functions of a class"
   ]
  },
  {
   "cell_type": "code",
   "execution_count": 15,
   "metadata": {},
   "outputs": [
    {
     "data": {
      "text/plain": [
       "['__repr__',\n",
       " '__hash__',\n",
       " '__getattribute__',\n",
       " '__lt__',\n",
       " '__le__',\n",
       " '__eq__',\n",
       " '__ne__',\n",
       " '__gt__',\n",
       " '__ge__',\n",
       " '__iter__',\n",
       " '__init__',\n",
       " '__len__',\n",
       " '__getitem__',\n",
       " '__setitem__',\n",
       " '__delitem__',\n",
       " '__add__',\n",
       " '__mul__',\n",
       " '__rmul__',\n",
       " '__contains__',\n",
       " '__iadd__',\n",
       " '__imul__',\n",
       " '__new__',\n",
       " '__reversed__',\n",
       " '__sizeof__',\n",
       " 'clear',\n",
       " 'copy',\n",
       " 'append',\n",
       " 'insert',\n",
       " 'extend',\n",
       " 'pop',\n",
       " 'remove',\n",
       " 'index',\n",
       " 'count',\n",
       " 'reverse',\n",
       " 'sort',\n",
       " '__doc__',\n",
       " '__str__',\n",
       " '__setattr__',\n",
       " '__delattr__',\n",
       " '__reduce_ex__',\n",
       " '__reduce__',\n",
       " '__subclasshook__',\n",
       " '__init_subclass__',\n",
       " '__format__',\n",
       " '__dir__',\n",
       " '__class__']"
      ]
     },
     "execution_count": 15,
     "metadata": {},
     "output_type": "execute_result"
    }
   ],
   "source": [
    "# every object in pytyhon has attributes and methods\n",
    "# user __dir__() \n",
    "mylist = [1, 2, 3, 4]\n",
    "mylist.__dir__() # ignore anything that starts with \"__\" (dunder methods)"
   ]
  },
  {
   "cell_type": "code",
   "execution_count": 8,
   "metadata": {},
   "outputs": [
    {
     "data": {
      "text/plain": [
       "[4, 3, 2, 1]"
      ]
     },
     "execution_count": 8,
     "metadata": {},
     "output_type": "execute_result"
    }
   ],
   "source": [
    "mylist.reverse() # inplace operation\n",
    "mylist"
   ]
  },
  {
   "cell_type": "code",
   "execution_count": 12,
   "metadata": {},
   "outputs": [
    {
     "data": {
      "text/plain": [
       "1"
      ]
     },
     "execution_count": 12,
     "metadata": {},
     "output_type": "execute_result"
    }
   ],
   "source": [
    "mylist.count(1) # counts occurances of 1"
   ]
  },
  {
   "cell_type": "markdown",
   "metadata": {},
   "source": [
    "#### Functions  \n",
    "There are built in functions like len() and hash(), max(), etc.  \n",
    "Of course, python allows the creation of custom functions as well  \n",
    "Basic syntax:  \n",
    "```\n",
    "def function_name(arg1, arg2, arg3=default_value):\n",
    "    statements\n",
    "    ...\n",
    "    return value (if return is not explicity called, None is returned\n",
    "```"
   ]
  },
  {
   "cell_type": "code",
   "execution_count": 17,
   "metadata": {},
   "outputs": [
    {
     "name": "stdout",
     "output_type": "stream",
     "text": [
      "hi\n"
     ]
    }
   ],
   "source": [
    "# function with 0 arguments\n",
    "def print_hi():\n",
    "    print(\"hi\")\n",
    "\n",
    "# now call the function\n",
    "print_hi()"
   ]
  },
  {
   "cell_type": "code",
   "execution_count": 21,
   "metadata": {},
   "outputs": [
    {
     "name": "stdout",
     "output_type": "stream",
     "text": [
      "hello\n",
      "world\n"
     ]
    }
   ],
   "source": [
    "# function with 1 arguments\n",
    "def print_it(what):\n",
    "    # what is the variable name inside of this function\n",
    "    print(what)\n",
    "\n",
    "# now call the function\n",
    "x = \"hello\"\n",
    "print_it(x)\n",
    "print_it(\"world\")"
   ]
  },
  {
   "cell_type": "code",
   "execution_count": 20,
   "metadata": {},
   "outputs": [
    {
     "name": "stdout",
     "output_type": "stream",
     "text": [
      "hello\n",
      "world\n",
      "how\n",
      "are you?\n"
     ]
    }
   ],
   "source": [
    "# function with 2 arguments\n",
    "def print_it(this, that):\n",
    "    print(this)\n",
    "    print(that)\n",
    "\n",
    "# now call the function\n",
    "print_it(\"hello\", \"world\")\n",
    "print_it(\"how\", \"are you?\")"
   ]
  },
  {
   "cell_type": "code",
   "execution_count": 22,
   "metadata": {},
   "outputs": [
    {
     "name": "stdout",
     "output_type": "stream",
     "text": [
      "hello\n",
      "world\n",
      "how\n",
      "default value\n"
     ]
    }
   ],
   "source": [
    "# function with 2 arguments, but the second argument is optional\n",
    "def print_it(this, that=\"default value\"):\n",
    "    print(this)\n",
    "    print(that)\n",
    "\n",
    "# now call the function\n",
    "print_it(\"hello\", \"world\")\n",
    "print_it(\"how\")"
   ]
  },
  {
   "cell_type": "markdown",
   "metadata": {},
   "source": [
    "#### Variable number of arguments. \n",
    "`*args` and `**kwargs`"
   ]
  },
  {
   "cell_type": "code",
   "execution_count": 26,
   "metadata": {},
   "outputs": [
    {
     "name": "stdout",
     "output_type": "stream",
     "text": [
      "6\n",
      "12\n",
      "18\n"
     ]
    }
   ],
   "source": [
    "# define a function that takes at least 2 parameters and then any number thereafter\n",
    "# * tells python to expect a variable list of values\n",
    "# args is just a name, it can be anything\n",
    "def add_numbers(a, b, *args):\n",
    "    sum = a + b\n",
    "    for x in args:\n",
    "        sum = sum + x\n",
    "    return sum  # returns value of function (None is returned if not explicitly returned)\n",
    "    \n",
    "# call the function\n",
    "print(add_numbers(2, 4))       # 6\n",
    "print(add_numbers(2, 4, 6))    # 12\n",
    "print(add_numbers(2, 4, 6, 6)) # 18"
   ]
  },
  {
   "cell_type": "code",
   "execution_count": 31,
   "metadata": {},
   "outputs": [
    {
     "name": "stdout",
     "output_type": "stream",
     "text": [
      "{'id': 2290, 'name': 'zahid', 'location': 'Boston', 'title': 'Cool Title'}\n",
      "{'id': 2290, 'name': 'bill', 'location': 'Los Angeles'}\n"
     ]
    }
   ],
   "source": [
    "# **kwargs means key/value args but behaves the same way\n",
    "# let's say we want to create a dictionary object based on the values received\n",
    "# id and name must be passed but everything else is optional\n",
    "def create_employee(id, name, **kwargs):\n",
    "    employee = {\"id\": id, \"name\": name}\n",
    "    for k,v in kwargs.items():\n",
    "        employee[k] = v\n",
    "    \n",
    "    return employee\n",
    "\n",
    "emp = create_employee(2290, \"zahid\", location=\"Boston\", title=\"Cool Title\")\n",
    "print(emp)\n",
    "emp = create_employee(2290, \"bill\", location=\"Los Angeles\",)\n",
    "print(emp)"
   ]
  },
  {
   "cell_type": "markdown",
   "metadata": {},
   "source": [
    "#### lambda functions\n",
    "##### Anonymous functions"
   ]
  },
  {
   "cell_type": "code",
   "execution_count": 33,
   "metadata": {},
   "outputs": [
    {
     "data": {
      "text/plain": [
       "5"
      ]
     },
     "execution_count": 33,
     "metadata": {},
     "output_type": "execute_result"
    }
   ],
   "source": [
    "# simple function to add 2 to a number\n",
    "def add_two(n):\n",
    "    return n + 2\n",
    "\n",
    "add_two(3)"
   ]
  },
  {
   "cell_type": "code",
   "execution_count": 35,
   "metadata": {},
   "outputs": [
    {
     "data": {
      "text/plain": [
       "5"
      ]
     },
     "execution_count": 35,
     "metadata": {},
     "output_type": "execute_result"
    }
   ],
   "source": [
    "# we can write a simple \"one-line\" function to do the same\n",
    "add_two = lambda x : x + 2\n",
    "add_two(3)"
   ]
  },
  {
   "cell_type": "code",
   "execution_count": 38,
   "metadata": {},
   "outputs": [
    {
     "data": {
      "text/plain": [
       "64"
      ]
     },
     "execution_count": 38,
     "metadata": {},
     "output_type": "execute_result"
    }
   ],
   "source": [
    "# lambda with multiple parameters\n",
    "power = lambda a,b: a**b\n",
    "power(4,3)"
   ]
  },
  {
   "cell_type": "markdown",
   "metadata": {},
   "source": [
    "#### map function"
   ]
  },
  {
   "cell_type": "code",
   "execution_count": 40,
   "metadata": {},
   "outputs": [
    {
     "data": {
      "text/plain": [
       "['A', 'J', 'S', 'J', 'Z']"
      ]
     },
     "execution_count": 40,
     "metadata": {},
     "output_type": "execute_result"
    }
   ],
   "source": [
    "# lets say you had a list of names and you wanted to get the first character of each name\n",
    "names = [\"Adam\", \"John\", \"Sarah\", \"Jen\", \"Zahid\"]\n",
    "get_initials = lambda x: x[0]\n",
    "# map applies the lambda to each element of the list\n",
    "list(map(get_initials, names))"
   ]
  },
  {
   "cell_type": "markdown",
   "metadata": {},
   "source": [
    "#### filter function"
   ]
  },
  {
   "cell_type": "code",
   "execution_count": 45,
   "metadata": {},
   "outputs": [
    {
     "data": {
      "text/plain": [
       "['John', 'Jen']"
      ]
     },
     "execution_count": 45,
     "metadata": {},
     "output_type": "execute_result"
    }
   ],
   "source": [
    "# lets say you want to return names that start with 'J'\n",
    "# use the filter function\n",
    "# filter only retuns elements that evaluate to True\n",
    "list(filter(lambda x: x.startswith('J'), names))"
   ]
  },
  {
   "cell_type": "markdown",
   "metadata": {},
   "source": [
    "#### reduce function"
   ]
  },
  {
   "cell_type": "code",
   "execution_count": 4,
   "metadata": {},
   "outputs": [
    {
     "data": {
      "text/plain": [
       "15"
      ]
     },
     "execution_count": 4,
     "metadata": {},
     "output_type": "execute_result"
    }
   ],
   "source": [
    "from functools import reduce\n",
    "\n",
    "# add 1 + 2, then 3 + 3, then 6 + 4, then 10 + 5 \n",
    "x = reduce(lambda x,y: x+y, [1,2,3,4,5])\n",
    "x"
   ]
  },
  {
   "cell_type": "code",
   "execution_count": null,
   "metadata": {},
   "outputs": [],
   "source": []
  }
 ],
 "metadata": {
  "kernelspec": {
   "display_name": "Python 3",
   "language": "python",
   "name": "python3"
  },
  "language_info": {
   "codemirror_mode": {
    "name": "ipython",
    "version": 3
   },
   "file_extension": ".py",
   "mimetype": "text/x-python",
   "name": "python",
   "nbconvert_exporter": "python",
   "pygments_lexer": "ipython3",
   "version": "3.7.4"
  }
 },
 "nbformat": 4,
 "nbformat_minor": 4
}
