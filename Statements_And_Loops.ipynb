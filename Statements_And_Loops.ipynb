{
 "cells": [
  {
   "cell_type": "markdown",
   "metadata": {},
   "source": [
    "### Python Statements\n",
    "* If, elif, else\n",
    "* for\n",
    "* while\n"
   ]
  },
  {
   "cell_type": "markdown",
   "metadata": {},
   "source": [
    "#### Syntax for if\n",
    "```\n",
    "if condition:\n",
    "    statement1\n",
    "    statement2\n",
    "elif condition:\n",
    "    statement1\n",
    "else:\n",
    "    statement1\n",
    "    statement2\n",
    "```"
   ]
  },
  {
   "cell_type": "code",
   "execution_count": 8,
   "metadata": {},
   "outputs": [
    {
     "name": "stdout",
     "output_type": "stream",
     "text": [
      "1 is less than 2\n",
      "this is nice\n",
      "oh wow!\n"
     ]
    }
   ],
   "source": [
    "a = 1\n",
    "b = 2\n",
    "c = 3\n",
    "\n",
    "# indentation is key!!!\n",
    "if a > b:\n",
    "    print(f\"{a} is greater than {b}\")\n",
    "    print(\"huh!\")\n",
    "elif a < b:\n",
    "    print(f\"{a} is less than {b}\")\n",
    "    print(\"this is nice\")\n",
    "    if c == 3:\n",
    "        print(\"oh wow!\")\n",
    "elif a < b or a > b:\n",
    "    print(\"this will not be reached because a previous condition has already evaluated to True\")\n",
    "else:\n",
    "    print(\"really, no conditions matched?\")\n",
    "    print(\"oh well\")"
   ]
  },
  {
   "cell_type": "markdown",
   "metadata": {},
   "source": [
    "#### Syntax for \n",
    "```\n",
    "for item in collection:\n",
    "    do something with item\n",
    "```"
   ]
  },
  {
   "cell_type": "code",
   "execution_count": 10,
   "metadata": {},
   "outputs": [
    {
     "name": "stdout",
     "output_type": "stream",
     "text": [
      "1\n",
      "2\n",
      "3\n",
      "4\n",
      "5\n",
      "3125\n",
      "6\n",
      "46656\n",
      "7\n",
      "823543\n"
     ]
    }
   ],
   "source": [
    "numbers = [1,2,3,4,5,6,7]\n",
    "# indentation!!!\n",
    "for n in numbers:\n",
    "    print(n)\n",
    "    if n > 4:\n",
    "        print(n**n)"
   ]
  },
  {
   "cell_type": "code",
   "execution_count": 11,
   "metadata": {},
   "outputs": [
    {
     "name": "stdout",
     "output_type": "stream",
     "text": [
      "H\n",
      "e\n",
      "l\n",
      "l\n",
      "o\n",
      " \n",
      "W\n",
      "o\n",
      "r\n",
      "l\n",
      "d\n"
     ]
    }
   ],
   "source": [
    "string = \"Hello World\"\n",
    "\n",
    "# loop over each character\n",
    "for c in string:\n",
    "    print(c)"
   ]
  },
  {
   "cell_type": "code",
   "execution_count": 14,
   "metadata": {},
   "outputs": [
    {
     "name": "stdout",
     "output_type": "stream",
     "text": [
      "a: apple\n",
      "c: chair\n",
      "d: desk\n"
     ]
    }
   ],
   "source": [
    "# example with dict\n",
    "dictionary = {\"a\": \"apple\", \"c\":\"chair\", \"d\": \"desk\"}\n",
    "# remember dict.items() returns a list of tuples so unpack into two variables\n",
    "# k and v are standard names since they represent key and value\n",
    "for k,v in dictionary.items():\n",
    "    print(f\"{k}: {v}\")"
   ]
  },
  {
   "cell_type": "markdown",
   "metadata": {},
   "source": [
    "#### while syntax\n",
    "```\n",
    "while test:\n",
    "    statement1\n",
    "    statement2\n",
    "else:\n",
    "    final statements\n",
    "```"
   ]
  },
  {
   "cell_type": "code",
   "execution_count": 19,
   "metadata": {},
   "outputs": [
    {
     "name": "stdout",
     "output_type": "stream",
     "text": [
      "0\n",
      "1\n",
      "2\n",
      "3\n",
      "4\n",
      "all done!\n"
     ]
    }
   ],
   "source": [
    "x = 0\n",
    "\n",
    "# indentation!!!\n",
    "while x < 5:\n",
    "    print(x)\n",
    "    x = x + 1  # must increment, otherwise infinite loop\n",
    "else:\n",
    "    print(\"all done!\")"
   ]
  },
  {
   "cell_type": "markdown",
   "metadata": {},
   "source": [
    "#### loop interruptions\n",
    "* **break** exit loop\n",
    "* **continue** continue to next iteration of loop\n",
    "* **pass** does nothing"
   ]
  },
  {
   "cell_type": "code",
   "execution_count": 22,
   "metadata": {},
   "outputs": [
    {
     "name": "stdout",
     "output_type": "stream",
     "text": [
      "1\n",
      "2\n",
      "3\n",
      "all done\n"
     ]
    }
   ],
   "source": [
    "numbers = [1,2,3,4,5,6,7]\n",
    "for n in numbers:\n",
    "    if n==4:\n",
    "        break  # exit loop\n",
    "    print(n)\n",
    "    \n",
    "print(\"all done\")"
   ]
  },
  {
   "cell_type": "code",
   "execution_count": 24,
   "metadata": {},
   "outputs": [
    {
     "name": "stdout",
     "output_type": "stream",
     "text": [
      "1\n",
      "2\n",
      "3\n",
      "6\n",
      "7\n",
      "all done\n"
     ]
    }
   ],
   "source": [
    "numbers = [1,2,3,4,5,6,7]\n",
    "for n in numbers:\n",
    "    if n==4 or n==5:\n",
    "        continue # next statement(s) will not be executed\n",
    "    print(n)    \n",
    "\n",
    "print(\"all done\")"
   ]
  },
  {
   "cell_type": "code",
   "execution_count": 27,
   "metadata": {},
   "outputs": [
    {
     "name": "stdout",
     "output_type": "stream",
     "text": [
      "1\n",
      "2\n",
      "3\n",
      "4\n",
      "5\n",
      "6\n",
      "7\n",
      "all done\n"
     ]
    }
   ],
   "source": [
    "numbers = [1,2,3,4,5,6,7]\n",
    "for n in numbers:\n",
    "    if n==4 or n==5:\n",
    "        pass # do nothing\n",
    "    print(n)    \n",
    "\n",
    "print(\"all done\")\n",
    "\n",
    "# why does pass even exists?\n",
    "# Well, mainly as placeholder for future code "
   ]
  },
  {
   "cell_type": "markdown",
   "metadata": {},
   "source": [
    "### Useful functions\n",
    "* **range** returns a list of integers with 3 params (start, stop, step)\n",
    "* **enumerate** returns a list of tuple (index, value)\n",
    "* **zip** creates a list of tuples by \"zipping\" two lists\n",
    "* **random** returns a random number "
   ]
  },
  {
   "cell_type": "code",
   "execution_count": 29,
   "metadata": {},
   "outputs": [
    {
     "name": "stdout",
     "output_type": "stream",
     "text": [
      "0 1 2 3 4 5 6 7 8 9\n"
     ]
    }
   ],
   "source": [
    "# generates a list of integers up to 10, but not including 10\n",
    "print(*range(10))"
   ]
  },
  {
   "cell_type": "code",
   "execution_count": 30,
   "metadata": {},
   "outputs": [
    {
     "name": "stdout",
     "output_type": "stream",
     "text": [
      "2 4 6 8\n"
     ]
    }
   ],
   "source": [
    "# generates a list of integers from 2 up to 10, but not including 10, with step 2\n",
    "print(*range(2, 10, 2))"
   ]
  },
  {
   "cell_type": "code",
   "execution_count": 35,
   "metadata": {},
   "outputs": [
    {
     "name": "stdout",
     "output_type": "stream",
     "text": [
      "10 8 6 4 2\n"
     ]
    }
   ],
   "source": [
    "# generate a list of integers from 10 down to 1, but not including 1, with -2 step\n",
    "print(*range(10, 1, -2))"
   ]
  },
  {
   "cell_type": "code",
   "execution_count": 37,
   "metadata": {},
   "outputs": [
    {
     "name": "stdout",
     "output_type": "stream",
     "text": [
      "0: a\n",
      "1: b\n",
      "2: c\n",
      "3: d\n"
     ]
    }
   ],
   "source": [
    "# enumerate is useful in attaining the index of each item\n",
    "letters = ['a', 'b', 'c', 'd']\n",
    "# since enumerate returns a list of tuples, need to unpack in two variables\n",
    "for i, letter in enumerate(letters):\n",
    "    print(f\"{i}: {letter}\")\n"
   ]
  },
  {
   "cell_type": "code",
   "execution_count": 44,
   "metadata": {},
   "outputs": [
    {
     "name": "stdout",
     "output_type": "stream",
     "text": [
      "(1, 'one') (2, 'two') (3, 'three')\n",
      "(1, 'one')\n",
      "(2, 'two')\n",
      "(3, 'three')\n"
     ]
    }
   ],
   "source": [
    "# zip two lists into one\n",
    "list1 = [1, 2, 3]\n",
    "list2 = [\"one\", \"two\", \"three\"]\n",
    "print(*zip(list1, list2))\n",
    "\n",
    "# above line is similar to\n",
    "for l1, l2 in zip(list1, list2):\n",
    "    print(f\"({l1}, '{l2}')\")"
   ]
  },
  {
   "cell_type": "code",
   "execution_count": 46,
   "metadata": {},
   "outputs": [
    {
     "name": "stdout",
     "output_type": "stream",
     "text": [
      "(1, 'one') (2, 'two') (3, 'three')\n"
     ]
    }
   ],
   "source": [
    "# what happens if the two lists are of different sizes?\n",
    "list1 = [1, 2, 3, 4]  # four items\n",
    "list2 = [\"one\", \"two\", \"three\"] # three items\n",
    "print(*zip(list1, list2))\n",
    "\n",
    "# zip ignores the extra elements"
   ]
  },
  {
   "cell_type": "code",
   "execution_count": 52,
   "metadata": {},
   "outputs": [
    {
     "data": {
      "text/plain": [
       "48"
      ]
     },
     "execution_count": 52,
     "metadata": {},
     "output_type": "execute_result"
    }
   ],
   "source": [
    "from random import randint\n",
    "randint(0,100)"
   ]
  },
  {
   "cell_type": "code",
   "execution_count": null,
   "metadata": {},
   "outputs": [],
   "source": []
  }
 ],
 "metadata": {
  "kernelspec": {
   "display_name": "Python 3",
   "language": "python",
   "name": "python3"
  },
  "language_info": {
   "codemirror_mode": {
    "name": "ipython",
    "version": 3
   },
   "file_extension": ".py",
   "mimetype": "text/x-python",
   "name": "python",
   "nbconvert_exporter": "python",
   "pygments_lexer": "ipython3",
   "version": "3.7.4"
  }
 },
 "nbformat": 4,
 "nbformat_minor": 4
}
