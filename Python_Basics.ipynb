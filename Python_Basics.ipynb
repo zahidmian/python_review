{
 "cells": [
  {
   "cell_type": "markdown",
   "metadata": {},
   "source": [
    "### Python Basics"
   ]
  },
  {
   "cell_type": "markdown",
   "metadata": {},
   "source": [
    "#### Basic Data Types  \n",
    "* Integers\n",
    "* Floating-Point Numbers\n",
    "* Complex Numbers\n",
    "* Strings\n",
    "* Boolean (\"Truthiness\")  \n",
    "\n",
    "**NOTE:** Python has dynamic typing (duck typing), so a variable can behave based on the value assigned to it. Use type() method to determine its type"
   ]
  },
  {
   "cell_type": "code",
   "execution_count": 8,
   "metadata": {},
   "outputs": [
    {
     "name": "stdout",
     "output_type": "stream",
     "text": [
      "value of x 2, type of x <class 'int'>\n",
      "value of x 2.6, type of x <class 'float'>\n",
      "value of x (1+2j), type of x <class 'complex'>\n",
      "value of x hello world, type of x <class 'str'>\n",
      "value of x True, type of x <class 'bool'>\n"
     ]
    }
   ],
   "source": [
    "# in this example x can be any type we assign to it\n",
    "\n",
    "# integer\n",
    "x = 2\n",
    "print(f'value of x {x}, type of x {type(x)}')\n",
    "\n",
    "# float\n",
    "x = 2.6\n",
    "print(f'value of x {x}, type of x {type(x)}')\n",
    "\n",
    "# complex\n",
    "x = 1+2j\n",
    "print(f'value of x {x}, type of x {type(x)}')\n",
    "\n",
    "x = \"hello world\"\n",
    "print(f'value of x {x}, type of x {type(x)}')\n",
    "\n",
    "x = True\n",
    "print(f'value of x {x}, type of x {type(x)}')"
   ]
  },
  {
   "cell_type": "markdown",
   "metadata": {},
   "source": [
    "##### Concept of Truthiness"
   ]
  },
  {
   "cell_type": "code",
   "execution_count": 10,
   "metadata": {},
   "outputs": [
    {
     "name": "stdout",
     "output_type": "stream",
     "text": [
      "is 1 equal to 1? True\n"
     ]
    }
   ],
   "source": [
    "x = 1==1\n",
    "\n",
    "print(f'is 1 equal to 1? {x}')"
   ]
  },
  {
   "cell_type": "code",
   "execution_count": 15,
   "metadata": {},
   "outputs": [
    {
     "name": "stdout",
     "output_type": "stream",
     "text": [
      "x is False\n",
      "x value of hello is Truthy\n"
     ]
    }
   ],
   "source": [
    "x = \"hello\"\n",
    "\n",
    "if x == True:\n",
    "    print(\"x is True\")\n",
    "else:\n",
    "    print(\"x is False\")\n",
    "    \n",
    "if x:\n",
    "    print(f\"x value of {x} is Truthy\")\n",
    "else:\n",
    "    print(f\"x value of {x} is Falsy\")"
   ]
  },
  {
   "cell_type": "markdown",
   "metadata": {},
   "source": [
    "##### The “truthiness” of an object of Boolean type is self-evident: Boolean objects that are equal to True are truthy (true), and those equal to False are falsy (false). But non-Boolean objects can be evaluated in Boolean context as well and determined to be true or false."
   ]
  },
  {
   "cell_type": "markdown",
   "metadata": {},
   "source": [
    "#### Basic Arithmetic"
   ]
  },
  {
   "cell_type": "code",
   "execution_count": 18,
   "metadata": {},
   "outputs": [
    {
     "data": {
      "text/plain": [
       "6"
      ]
     },
     "execution_count": 18,
     "metadata": {},
     "output_type": "execute_result"
    }
   ],
   "source": [
    "# Addition\n",
    "x = 3+3\n",
    "x"
   ]
  },
  {
   "cell_type": "code",
   "execution_count": 19,
   "metadata": {},
   "outputs": [
    {
     "data": {
      "text/plain": [
       "1"
      ]
     },
     "execution_count": 19,
     "metadata": {},
     "output_type": "execute_result"
    }
   ],
   "source": [
    "# Substraction\n",
    "x = 3-2\n",
    "x"
   ]
  },
  {
   "cell_type": "code",
   "execution_count": 20,
   "metadata": {},
   "outputs": [
    {
     "data": {
      "text/plain": [
       "6"
      ]
     },
     "execution_count": 20,
     "metadata": {},
     "output_type": "execute_result"
    }
   ],
   "source": [
    "# Multiplication\n",
    "x = 3*2\n",
    "x"
   ]
  },
  {
   "cell_type": "code",
   "execution_count": 21,
   "metadata": {},
   "outputs": [
    {
     "data": {
      "text/plain": [
       "1.5"
      ]
     },
     "execution_count": 21,
     "metadata": {},
     "output_type": "execute_result"
    }
   ],
   "source": [
    "# Division\n",
    "x = 3/2\n",
    "x"
   ]
  },
  {
   "cell_type": "code",
   "execution_count": 24,
   "metadata": {},
   "outputs": [
    {
     "data": {
      "text/plain": [
       "1"
      ]
     },
     "execution_count": 24,
     "metadata": {},
     "output_type": "execute_result"
    }
   ],
   "source": [
    "# Floor Division (integer division)\n",
    "x = 3//2\n",
    "x"
   ]
  },
  {
   "cell_type": "code",
   "execution_count": 25,
   "metadata": {},
   "outputs": [
    {
     "data": {
      "text/plain": [
       "-2"
      ]
     },
     "execution_count": 25,
     "metadata": {},
     "output_type": "execute_result"
    }
   ],
   "source": [
    "# Floor Division (integer division)\n",
    "x = -3//2\n",
    "x\n",
    "\n",
    "# Note the value is -2"
   ]
  },
  {
   "cell_type": "code",
   "execution_count": 33,
   "metadata": {},
   "outputs": [
    {
     "data": {
      "text/plain": [
       "2"
      ]
     },
     "execution_count": 33,
     "metadata": {},
     "output_type": "execute_result"
    }
   ],
   "source": [
    "# Modulo (remainder after division)\n",
    "5%3"
   ]
  },
  {
   "cell_type": "code",
   "execution_count": 34,
   "metadata": {},
   "outputs": [
    {
     "data": {
      "text/plain": [
       "8"
      ]
     },
     "execution_count": 34,
     "metadata": {},
     "output_type": "execute_result"
    }
   ],
   "source": [
    "# Power\n",
    "2**3"
   ]
  },
  {
   "cell_type": "code",
   "execution_count": 36,
   "metadata": {},
   "outputs": [
    {
     "data": {
      "text/plain": [
       "4.0"
      ]
     },
     "execution_count": 36,
     "metadata": {},
     "output_type": "execute_result"
    }
   ],
   "source": [
    "# roots can be handled same way\n",
    "16**0.5"
   ]
  },
  {
   "cell_type": "code",
   "execution_count": 38,
   "metadata": {},
   "outputs": [
    {
     "data": {
      "text/plain": [
       "15.0"
      ]
     },
     "execution_count": 38,
     "metadata": {},
     "output_type": "execute_result"
    }
   ],
   "source": [
    "# order of operations\n",
    "((2*10) + 4) / (4-2) + 3 "
   ]
  },
  {
   "cell_type": "markdown",
   "metadata": {},
   "source": [
    "#### Variables\n",
    "The names you use when creating these labels need to follow a few rules:\n",
    "1. Names can not start with a number.\n",
    "2. There can be no spaces in the name, use _ instead.\n",
    "3. Can't use any of these symbols :'\",<>/?|\\()!@#$%^&*~-+\n",
    "4. It's considered best practice (PEP8) that names are lowercase.\n",
    "5. Avoid using the characters 'l' (lowercase letter el), 'O' (uppercase letter oh), \n",
    "   or 'I' (uppercase letter eye) as single character variable names.\n",
    "6. Avoid using words that have special meaning in Python like \"list\" and \"str\""
   ]
  },
  {
   "cell_type": "code",
   "execution_count": 42,
   "metadata": {},
   "outputs": [
    {
     "data": {
      "text/plain": [
       "3"
      ]
     },
     "execution_count": 42,
     "metadata": {},
     "output_type": "execute_result"
    }
   ],
   "source": [
    "# assignment is easy ... use equal sign for assignment\n",
    "x = 3 \n",
    "x"
   ]
  },
  {
   "cell_type": "code",
   "execution_count": 44,
   "metadata": {},
   "outputs": [
    {
     "data": {
      "text/plain": [
       "7"
      ]
     },
     "execution_count": 44,
     "metadata": {},
     "output_type": "execute_result"
    }
   ],
   "source": [
    "# augmented assignment operator\n",
    "x = 3\n",
    "x += 4 # add 4 to itself\n",
    "x\n"
   ]
  },
  {
   "cell_type": "code",
   "execution_count": 45,
   "metadata": {},
   "outputs": [
    {
     "data": {
      "text/plain": [
       "1.0"
      ]
     },
     "execution_count": 45,
     "metadata": {},
     "output_type": "execute_result"
    }
   ],
   "source": [
    "# augmented assignment operator\n",
    "x = 4\n",
    "x /= 4 # divide itself by 4\n",
    "x"
   ]
  },
  {
   "cell_type": "markdown",
   "metadata": {},
   "source": [
    "##### For each mathematical operator, +, -, /, //, *, **, there is a corresponding augmented assignment operator +=, -=, /=, //=, *=, **="
   ]
  },
  {
   "cell_type": "markdown",
   "metadata": {},
   "source": [
    "#### Other Types\n",
    "* list\n",
    "* tuple\n",
    "* dict\n",
    "* set"
   ]
  },
  {
   "cell_type": "code",
   "execution_count": 47,
   "metadata": {},
   "outputs": [
    {
     "name": "stdout",
     "output_type": "stream",
     "text": [
      "1 hi 1.2j\n"
     ]
    }
   ],
   "source": [
    "# list is similar to an array but can contain any type\n",
    "# use square brackets or list()\n",
    "x = [1, \"hi\", 1.2j]\n",
    "print(*x)  # *-operator is used to unpack a list or tuple"
   ]
  },
  {
   "cell_type": "code",
   "execution_count": 48,
   "metadata": {},
   "outputs": [
    {
     "name": "stdout",
     "output_type": "stream",
     "text": [
      "1 hi 1.2j\n"
     ]
    }
   ],
   "source": [
    "# tuple is an immutable sequence of objects\n",
    "# use () or tuple()\n",
    "x = (1, \"hi\", 1.2j)\n",
    "print(*x)"
   ]
  },
  {
   "cell_type": "code",
   "execution_count": 49,
   "metadata": {},
   "outputs": [
    {
     "name": "stdout",
     "output_type": "stream",
     "text": [
      "1 hi 1.2j 3.14\n"
     ]
    }
   ],
   "source": [
    "# the main difference between list and tuple is that lists can be updated\n",
    "x = [1, \"hi\", 1.2j]\n",
    "x.append(3.14) # valid\n",
    "print(*x)"
   ]
  },
  {
   "cell_type": "code",
   "execution_count": 117,
   "metadata": {},
   "outputs": [
    {
     "name": "stdout",
     "output_type": "stream",
     "text": [
      "index of \"hi\" in tuple x is 1\n",
      "the number of times 1 appears in tuple x is 3\n"
     ]
    }
   ],
   "source": [
    "# tuples have limit methods\n",
    "x = (1, \"hi\", 1.2j, 1, 3.444, 1)\n",
    "print(f'index of \"hi\" in tuple x is {x.index(\"hi\")}')\n",
    "print(f'the number of times 1 appears in tuple x is {x.count(1)}')"
   ]
  },
  {
   "cell_type": "code",
   "execution_count": 113,
   "metadata": {},
   "outputs": [
    {
     "name": "stdout",
     "output_type": "stream",
     "text": [
      "a b c\n",
      "apple banana candy\n",
      "a b c\n",
      "apple banana candy date\n",
      "apple blueberry candy date\n",
      "('a', 'apple') ('b', 'blueberry') ('c', 'candy') ('d', 'date')\n"
     ]
    }
   ],
   "source": [
    "# dict is a key/value pair of values\n",
    "# use {} or dict()\n",
    "x = {\"a\": \"apple\", \"b\": \"banana\", \"c\": \"candy\"}\n",
    "print(*x) # this will only print the keys\n",
    "print(*x.values()) # prints the values\n",
    "print(*x.keys()) # prints the keys\n",
    "\n",
    "# append \n",
    "x[\"d\"] = \"date\"\n",
    "print(*x.values())\n",
    "\n",
    "# edit existing value\n",
    "x[\"b\"] = \"blueberry\"\n",
    "print(*x.values())\n",
    "\n",
    "print(*x.items()) # returns a tuple for each item (key, value)"
   ]
  },
  {
   "cell_type": "code",
   "execution_count": 123,
   "metadata": {},
   "outputs": [
    {
     "name": "stdout",
     "output_type": "stream",
     "text": [
      "{'a': 'apple', 'b': 'banana', 'c': 'candy'}\n"
     ]
    }
   ],
   "source": [
    "# use ** to unpack a dict\n",
    "x = {\"a\": \"apple\", \"b\": \"banana\", \"c\": \"candy\"}\n",
    "print({**x})"
   ]
  },
  {
   "cell_type": "code",
   "execution_count": 111,
   "metadata": {},
   "outputs": [
    {
     "data": {
      "text/plain": [
       "'value'"
      ]
     },
     "execution_count": 111,
     "metadata": {},
     "output_type": "execute_result"
    }
   ],
   "source": [
    "# nested dictionaries\n",
    "# only one item in d \n",
    "# that item has a dictionary that has one item\n",
    "# that item has a dicionary that has one item\n",
    "d = {'key1':{'nestkey':{'subnestkey':'value'}}}\n",
    "d['key1']['nestkey']['subnestkey']"
   ]
  },
  {
   "cell_type": "code",
   "execution_count": 61,
   "metadata": {},
   "outputs": [
    {
     "name": "stdout",
     "output_type": "stream",
     "text": [
      "[1, 2, 3] {'first': 'Zahid', 'last': 'Mian'} ['C#', 'Java', {'python': ['Flask', 'Django']}]\n"
     ]
    }
   ],
   "source": [
    "# lists, tuples, dicts can have nested types of each other\n",
    "\n",
    "d = {\n",
    "    \"items\": [1,2,3], \n",
    "    \"name\": {\"first\": \"Zahid\", \"last\": \"Mian\"},\n",
    "    \"skills\": [\"C#\", \"Java\", {\"python\": [\"Flask\", \"Django\"]}]\n",
    "}\n",
    "print(*d.values())"
   ]
  },
  {
   "cell_type": "code",
   "execution_count": 73,
   "metadata": {},
   "outputs": [
    {
     "name": "stdout",
     "output_type": "stream",
     "text": [
      "x is of type <class 'list'> and has values 1 2 3 4 3 5\n",
      "x is of type <class 'set'> and has values 1 2 3 4 5\n",
      "after append\n",
      " x is of type <class 'set'> and has values 1 2 3 4 5 6\n"
     ]
    }
   ],
   "source": [
    "# set (similar to list, but has no duplicates)\n",
    "x = [1, 2, 3, 4, 3, 5]\n",
    "print(f'x is of type {type(x)} and has values ', end='')\n",
    "print(*x)\n",
    "\n",
    "x = set([1, 2, 3, 4, 3, 5]) # simply wrap a list \n",
    "print(f'x is of type {type(x)} and has values ', end='')\n",
    "print(*x)\n",
    "\n",
    "# notice the second 3 is removed\n",
    "\n",
    "# we can still update a set\n",
    "x.add(6) # note the method is add\n",
    "print(f'after append\\n x is of type {type(x)} and has values ', end='')\n",
    "print(*x)"
   ]
  },
  {
   "cell_type": "code",
   "execution_count": 82,
   "metadata": {},
   "outputs": [
    {
     "name": "stdout",
     "output_type": "stream",
     "text": [
      "100 2 3 4 3 500\n"
     ]
    }
   ],
   "source": [
    "# to update a list/set, use the index\n",
    "x = [1, 2, 3, 4, 3, 5]\n",
    "x[0] = 100 # index of 0 is first element\n",
    "x[-1] = 500 # index of -1 is the last element\n",
    "print(*x)"
   ]
  },
  {
   "cell_type": "markdown",
   "metadata": {},
   "source": [
    "#### extend() method to extend a list"
   ]
  },
  {
   "cell_type": "code",
   "execution_count": 8,
   "metadata": {},
   "outputs": [
    {
     "name": "stdout",
     "output_type": "stream",
     "text": [
      "[1, 2, 3, [4, 5, 6]]\n"
     ]
    }
   ],
   "source": [
    "x = [1,2,3]\n",
    "y = [4,5,6]\n",
    "x.append(y) # this will append the list by placing the list as the fourth element\n",
    "print(x)"
   ]
  },
  {
   "cell_type": "code",
   "execution_count": 10,
   "metadata": {},
   "outputs": [
    {
     "name": "stdout",
     "output_type": "stream",
     "text": [
      "[1, 2, 3, 4, 5, 6]\n"
     ]
    }
   ],
   "source": [
    "x = [1,2,3]\n",
    "y = [4,5,6]\n",
    "x.extend(y) # this will actually extend the list\n",
    "print(x)"
   ]
  },
  {
   "cell_type": "markdown",
   "metadata": {},
   "source": [
    "#### del keyword"
   ]
  },
  {
   "cell_type": "code",
   "execution_count": 78,
   "metadata": {},
   "outputs": [
    {
     "name": "stdout",
     "output_type": "stream",
     "text": [
      "2 3 4 3 5\n"
     ]
    }
   ],
   "source": [
    "# use del key word to delete element\n",
    "x = [1, 2, 3, 4, 3, 5]\n",
    "del x[0]\n",
    "print(*x)"
   ]
  },
  {
   "cell_type": "code",
   "execution_count": 4,
   "metadata": {},
   "outputs": [
    {
     "name": "stdout",
     "output_type": "stream",
     "text": [
      "5\n"
     ]
    },
    {
     "ename": "NameError",
     "evalue": "name 'x' is not defined",
     "output_type": "error",
     "traceback": [
      "\u001B[0;31m---------------------------------------------------------------------------\u001B[0m",
      "\u001B[0;31mNameError\u001B[0m                                 Traceback (most recent call last)",
      "\u001B[0;32m<ipython-input-4-384c44b19e1d>\u001B[0m in \u001B[0;36m<module>\u001B[0;34m\u001B[0m\n\u001B[1;32m      3\u001B[0m \u001B[0mprint\u001B[0m\u001B[0;34m(\u001B[0m\u001B[0mx\u001B[0m\u001B[0;34m)\u001B[0m\u001B[0;34m\u001B[0m\u001B[0;34m\u001B[0m\u001B[0m\n\u001B[1;32m      4\u001B[0m \u001B[0;32mdel\u001B[0m \u001B[0mx\u001B[0m \u001B[0;31m# x is no longer defined\u001B[0m\u001B[0;34m\u001B[0m\u001B[0;34m\u001B[0m\u001B[0m\n\u001B[0;32m----> 5\u001B[0;31m \u001B[0mprint\u001B[0m\u001B[0;34m(\u001B[0m\u001B[0mx\u001B[0m\u001B[0;34m)\u001B[0m\u001B[0;34m\u001B[0m\u001B[0;34m\u001B[0m\u001B[0m\n\u001B[0m",
      "\u001B[0;31mNameError\u001B[0m: name 'x' is not defined"
     ]
    }
   ],
   "source": [
    "# del can be used to delete variables too\n",
    "x = 5\n",
    "print(x)\n",
    "del x # x is no longer defined\n",
    "print(x) "
   ]
  },
  {
   "cell_type": "markdown",
   "metadata": {},
   "source": [
    "#### pop() "
   ]
  },
  {
   "cell_type": "code",
   "execution_count": 89,
   "metadata": {},
   "outputs": [
    {
     "name": "stdout",
     "output_type": "stream",
     "text": [
      "popped: 50\n",
      "popped: 30\n"
     ]
    },
    {
     "data": {
      "text/plain": [
       "[10, 20, 40]"
      ]
     },
     "execution_count": 89,
     "metadata": {},
     "output_type": "execute_result"
    }
   ],
   "source": [
    "# pop() is also available \n",
    "# by default it pops the last element, but you can specifiy index\n",
    "x = [10, 20, 30, 40, 50]\n",
    "popped_value = x.pop()  # pop the last value\n",
    "print(f\"popped: {popped_value}\")\n",
    "\n",
    "popped_value = x.pop(2) # pop the 3rd element\n",
    "print(f\"popped: {popped_value}\")\n",
    "\n",
    "x  # remaining values"
   ]
  },
  {
   "cell_type": "markdown",
   "metadata": {},
   "source": [
    "#### remove() by value"
   ]
  },
  {
   "cell_type": "code",
   "execution_count": 1,
   "metadata": {},
   "outputs": [
    {
     "name": "stdout",
     "output_type": "stream",
     "text": [
      "[10, 20, 40, 50]\n"
     ]
    }
   ],
   "source": [
    "x = [10, 20, 30, 40, 50]\n",
    "x.remove(30)\n",
    "print(x)"
   ]
  },
  {
   "cell_type": "code",
   "execution_count": 90,
   "metadata": {},
   "outputs": [
    {
     "name": "stdout",
     "output_type": "stream",
     "text": [
      "index doesn't exist\n"
     ]
    }
   ],
   "source": [
    "# referencing an invalid index will throw exception\n",
    "x = [10, 20, 30, 40, 50]\n",
    "try:\n",
    "    z = x[10]\n",
    "except Exception:\n",
    "    print(\"index doesn't exist\")\n"
   ]
  },
  {
   "cell_type": "code",
   "execution_count": 93,
   "metadata": {},
   "outputs": [
    {
     "name": "stdout",
     "output_type": "stream",
     "text": [
      "20 40 50 50 70\n"
     ]
    }
   ],
   "source": [
    "# sort can be done with either the sort() method of list or python sort\n",
    "x = [50, 20, 70, 40, 50]\n",
    "x.sort()\n",
    "print(*x)"
   ]
  },
  {
   "cell_type": "code",
   "execution_count": 96,
   "metadata": {},
   "outputs": [
    {
     "name": "stdout",
     "output_type": "stream",
     "text": [
      "20 40 50 50 70\n"
     ]
    }
   ],
   "source": [
    "# sort can be done with either the sort() method of list or python sort\n",
    "x = [50, 20, 70, 40, 50]\n",
    "print(*sorted(x))"
   ]
  },
  {
   "cell_type": "code",
   "execution_count": 81,
   "metadata": {},
   "outputs": [
    {
     "name": "stdout",
     "output_type": "stream",
     "text": [
      "1 2 3 4 5\n"
     ]
    }
   ],
   "source": [
    "# if there is a mutable set, then there must be an immutable set too!\n",
    "# frozenset\n",
    "\n",
    "x = frozenset([1, 2, 3, 4, 3, 5])\n",
    "print(*x)\n",
    "\n",
    "# uncomment this line to see what happens\n",
    "# frozen_set.add(6) "
   ]
  },
  {
   "cell_type": "markdown",
   "metadata": {},
   "source": [
    "#### List Comprehensions  \n",
    "quick construction of lists"
   ]
  },
  {
   "cell_type": "code",
   "execution_count": 97,
   "metadata": {},
   "outputs": [
    {
     "name": "stdout",
     "output_type": "stream",
     "text": [
      "Apples Dates Peaches\n"
     ]
    }
   ],
   "source": [
    "# lets say we want to title() every element of a list\n",
    "# we could do a loop\n",
    "fruits = [\"apples\", \"dates\", \"peaches\"]\n",
    "new_list = []\n",
    "for f in fruits:\n",
    "    new_list.append(f.title())\n",
    "\n",
    "print(*new_list)"
   ]
  },
  {
   "cell_type": "code",
   "execution_count": 99,
   "metadata": {},
   "outputs": [
    {
     "name": "stdout",
     "output_type": "stream",
     "text": [
      "Apples Dates Peaches\n"
     ]
    }
   ],
   "source": [
    "# or we quick do a \"shorthand\"\n",
    "fruits = [\"apples\", \"dates\", \"peaches\"]\n",
    "new_list = [f.title() for f in fruits]\n",
    "print(*new_list)"
   ]
  },
  {
   "cell_type": "code",
   "execution_count": null,
   "metadata": {},
   "outputs": [],
   "source": []
  },
  {
   "cell_type": "code",
   "execution_count": 103,
   "metadata": {},
   "outputs": [
    {
     "name": "stdout",
     "output_type": "stream",
     "text": [
      "Apples Peaches Strawberries\n"
     ]
    }
   ],
   "source": [
    "# also add condition\n",
    "# lets say we want to filter out \"dates\"\n",
    "fruits = [\"apples\", \"dates\", \"peaches\", \"strawberries\"]\n",
    "new_list = [f.title() for f in fruits if f!=\"dates\"]\n",
    "print(*new_list)"
   ]
  },
  {
   "cell_type": "code",
   "execution_count": 120,
   "metadata": {},
   "outputs": [
    {
     "data": {
      "text/plain": [
       "[0, 1, 16, 81, 256, 625, 1296, 2401, 4096, 6561, 10000]"
      ]
     },
     "execution_count": 120,
     "metadata": {},
     "output_type": "execute_result"
    }
   ],
   "source": [
    "# nested list comprehensions\n",
    "# the inner list comprehension returns a list of squared values from 0 to 10 \n",
    "# the outer comprehension then squares each value from inner list\n",
    "x = [ x**2 for x in [x**2 for x in range(11)]]\n",
    "x"
   ]
  },
  {
   "cell_type": "markdown",
   "source": [
    "#### Nested comprehensions "
   ],
   "metadata": {
    "collapsed": false
   }
  },
  {
   "cell_type": "code",
   "execution_count": null,
   "outputs": [],
   "source": [
    "l1 = [1,2,3]\n",
    "l2 = [4,5,6]\n",
    "\n",
    "l3 = [x * y for x in l2 for y in l1 ]\n",
    "print(l3)\n"
   ],
   "metadata": {
    "collapsed": false,
    "pycharm": {
     "name": "#%%\n"
    }
   }
  },
  {
   "cell_type": "code",
   "execution_count": null,
   "outputs": [],
   "source": [
    "# above list comprehension is same as\n",
    "l3 = []\n",
    "for x in l1:\n",
    "    for y in l2:\n",
    "        l3.append(x*y)\n",
    "print(l3)"
   ],
   "metadata": {
    "collapsed": false,
    "pycharm": {
     "name": "#%%\n"
    }
   }
  },
  {
   "cell_type": "markdown",
   "source": [
    "#### Unpacking values in List comprehensions"
   ],
   "metadata": {
    "collapsed": false
   }
  },
  {
   "cell_type": "code",
   "execution_count": null,
   "outputs": [],
   "source": [
    "# lets say you have a basket with fruit and you want to get the sum of all the items\n",
    "basket = [['apples', 5], ['oranges', 6], ['bananas', 3]]\n",
    "\n",
    "# each item will unpack into a and b (fruit, count)\n",
    "counts = [b for (a,b) in basket]\n",
    "items = sum(counts)\n",
    "items"
   ],
   "metadata": {
    "collapsed": false,
    "pycharm": {
     "name": "#%%\n"
    }
   }
  },
  {
   "cell_type": "code",
   "execution_count": null,
   "outputs": [],
   "source": [
    "# of course, the above example can be written in one line\n",
    "sum([b for (a,b) in basket])"
   ],
   "metadata": {
    "collapsed": false,
    "pycharm": {
     "name": "#%%\n"
    }
   }
  },
  {
   "cell_type": "markdown",
   "metadata": {},
   "source": [
    "#### Use **dir** method to get all attributes of an object"
   ]
  },
  {
   "cell_type": "code",
   "execution_count": 4,
   "metadata": {},
   "outputs": [
    {
     "name": "stdout",
     "output_type": "stream",
     "text": [
      "[4, 8, 12, 5, 10, 15, 6, 12, 18]\n"
     ]
    }
   ],
   "source": [
    "l1 = [1,2,3]\n",
    "l2 = [4,5,6]\n",
    "\n",
    "l3 = [x * y for x in l2 for y in l1 ]\n",
    "print(l3)\n"
   ]
  },
  {
   "cell_type": "code",
   "execution_count": 5,
   "metadata": {},
   "outputs": [
    {
     "name": "stdout",
     "output_type": "stream",
     "text": [
      "[4, 5, 6, 8, 10, 12, 12, 15, 18]\n"
     ]
    }
   ],
   "source": [
    "# above list comprehension is same as\n",
    "l3 = []\n",
    "for x in l1:\n",
    "    for y in l2:\n",
    "        l3.append(x*y)\n",
    "print(l3)"
   ]
  },
  {
   "cell_type": "markdown",
   "metadata": {},
   "source": [
    "#### Unpacking values in List comprehensions"
   ]
  },
  {
   "cell_type": "code",
   "execution_count": 10,
   "metadata": {},
   "outputs": [
    {
     "data": {
      "text/plain": [
       "14"
      ]
     },
     "execution_count": 10,
     "metadata": {},
     "output_type": "execute_result"
    }
   ],
   "source": [
    "# lets say you have a basket with fruit and you want to get the sum of all the items\n",
    "basket = [['apples', 5], ['oranges', 6], ['bananas', 3]]\n",
    "\n",
    "# each item will unpack into a and b (fruit, count)\n",
    "counts = [b for (a,b) in basket]\n",
    "items = sum(counts)\n",
    "items"
   ]
  },
  {
   "cell_type": "code",
   "execution_count": 9,
   "metadata": {},
   "outputs": [
    {
     "data": {
      "text/plain": [
       "14"
      ]
     },
     "execution_count": 9,
     "metadata": {},
     "output_type": "execute_result"
    }
   ],
   "source": [
    "# of course, the above example can be written in one line\n",
    "sum([b for (a,b) in basket])"
   ]
  },
  {
   "cell_type": "markdown",
   "metadata": {},
   "source": [
    "#### Use **dir** method to get all attributes of an object"
   ]
  },
  {
   "cell_type": "code",
   "execution_count": 118,
   "metadata": {},
   "outputs": [
    {
     "data": {
      "text/plain": [
       "['__repr__',\n",
       " '__hash__',\n",
       " '__str__',\n",
       " '__getattribute__',\n",
       " '__lt__',\n",
       " '__le__',\n",
       " '__eq__',\n",
       " '__ne__',\n",
       " '__gt__',\n",
       " '__ge__',\n",
       " '__iter__',\n",
       " '__mod__',\n",
       " '__rmod__',\n",
       " '__len__',\n",
       " '__getitem__',\n",
       " '__add__',\n",
       " '__mul__',\n",
       " '__rmul__',\n",
       " '__contains__',\n",
       " '__new__',\n",
       " 'encode',\n",
       " 'replace',\n",
       " 'split',\n",
       " 'rsplit',\n",
       " 'join',\n",
       " 'capitalize',\n",
       " 'casefold',\n",
       " 'title',\n",
       " 'center',\n",
       " 'count',\n",
       " 'expandtabs',\n",
       " 'find',\n",
       " 'partition',\n",
       " 'index',\n",
       " 'ljust',\n",
       " 'lower',\n",
       " 'lstrip',\n",
       " 'rfind',\n",
       " 'rindex',\n",
       " 'rjust',\n",
       " 'rstrip',\n",
       " 'rpartition',\n",
       " 'splitlines',\n",
       " 'strip',\n",
       " 'swapcase',\n",
       " 'translate',\n",
       " 'upper',\n",
       " 'startswith',\n",
       " 'endswith',\n",
       " 'isascii',\n",
       " 'islower',\n",
       " 'isupper',\n",
       " 'istitle',\n",
       " 'isspace',\n",
       " 'isdecimal',\n",
       " 'isdigit',\n",
       " 'isnumeric',\n",
       " 'isalpha',\n",
       " 'isalnum',\n",
       " 'isidentifier',\n",
       " 'isprintable',\n",
       " 'zfill',\n",
       " 'format',\n",
       " 'format_map',\n",
       " '__format__',\n",
       " 'maketrans',\n",
       " '__sizeof__',\n",
       " '__getnewargs__',\n",
       " '__doc__',\n",
       " '__setattr__',\n",
       " '__delattr__',\n",
       " '__init__',\n",
       " '__reduce_ex__',\n",
       " '__reduce__',\n",
       " '__subclasshook__',\n",
       " '__init_subclass__',\n",
       " '__dir__',\n",
       " '__class__']"
      ]
     },
     "execution_count": 118,
     "metadata": {},
     "output_type": "execute_result"
    }
   ],
   "source": [
    "x = \"i'm a string\"\n",
    "x.__dir__()"
   ]
  },
  {
   "cell_type": "markdown",
   "metadata": {},
   "source": [
    "#### timeit to time code snippets"
   ]
  },
  {
   "cell_type": "code",
   "execution_count": 11,
   "metadata": {},
   "outputs": [],
   "source": [
    "import timeit"
   ]
  },
  {
   "cell_type": "code",
   "execution_count": null,
   "metadata": {},
   "outputs": [],
   "source": [
    "# generate a long string\n",
    "\",\".join([str(i) for i in range(1000)])\n",
    "\n"
   ]
  },
  {
   "cell_type": "code",
   "execution_count": 21,
   "metadata": {},
   "outputs": [
    {
     "data": {
      "text/plain": [
       "0.024865379000402754"
      ]
     },
     "execution_count": 21,
     "metadata": {},
     "output_type": "execute_result"
    }
   ],
   "source": [
    "# determine how long it takes to execute it 1000 times\n",
    "timeit.timeit('\",\".join([str(i) for i in range(1000)])', number=1000)\n"
   ]
  },
  {
   "cell_type": "code",
   "execution_count": 22,
   "metadata": {},
   "outputs": [
    {
     "data": {
      "text/plain": [
       "0.2146341979969293"
      ]
     },
     "execution_count": 22,
     "metadata": {},
     "output_type": "execute_result"
    }
   ],
   "source": [
    "# same thing with a regular loop\n",
    "timeit.timeit('\",\".join(str(i) for i in range(1000))', number=1000)"
   ]
  },
  {
   "cell_type": "code",
   "execution_count": 25,
   "metadata": {},
   "outputs": [
    {
     "data": {
      "text/plain": [
       "0.15440107800168335"
      ]
     },
     "execution_count": 25,
     "metadata": {},
     "output_type": "execute_result"
    }
   ],
   "source": [
    "# map(lambda x: \", \" + str(x), range(1000))\n",
    "\n",
    "timeit.timeit('\",\".join(map(str, range(1000)))', number=1000)"
   ]
  },
  {
   "cell_type": "code",
   "execution_count": 30,
   "metadata": {},
   "outputs": [
    {
     "data": {
      "text/plain": [
       "0.5568737069988856"
      ]
     },
     "execution_count": 30,
     "metadata": {},
     "output_type": "execute_result"
    }
   ],
   "source": [
    "timeit.timeit('\",\".join(map(str, range(4000)))', number=1000)"
   ]
  },
  {
   "cell_type": "markdown",
   "metadata": {},
   "source": [
    "#### use jupyter %timeit magic "
   ]
  },
  {
   "cell_type": "code",
   "execution_count": 33,
   "metadata": {},
   "outputs": [
    {
     "name": "stdout",
     "output_type": "stream",
     "text": [
      "14.5 µs ± 253 ns per loop (mean ± std. dev. of 7 runs, 100000 loops each)\n"
     ]
    }
   ],
   "source": [
    "%timeit \",\".join(map(str, range(100)))"
   ]
  },
  {
   "cell_type": "code",
   "execution_count": null,
   "metadata": {},
   "outputs": [],
   "source": []
  }
 ],
 "metadata": {
  "kernelspec": {
   "display_name": "Python 3",
   "language": "python",
   "name": "python3"
  },
  "language_info": {
   "codemirror_mode": {
    "name": "ipython",
    "version": 3
   },
   "file_extension": ".py",
   "mimetype": "text/x-python",
   "name": "python",
   "nbconvert_exporter": "python",
   "pygments_lexer": "ipython3",
   "version": "3.7.4"
  }
 },
 "nbformat": 4,
 "nbformat_minor": 4
}