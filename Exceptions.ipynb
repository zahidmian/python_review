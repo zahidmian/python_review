{
 "cells": [
  {
   "cell_type": "markdown",
   "metadata": {},
   "source": [
    "### Exceptions"
   ]
  },
  {
   "cell_type": "markdown",
   "metadata": {},
   "source": [
    "#### Basic syntax  \n",
    "```\n",
    "try:\n",
    "    statements\n",
    "except ExceptionType1 as e:\n",
    "    statements\n",
    "except ExceptionType2 as e:\n",
    "    statements\n",
    "except Exception as e:\n",
    "    # generic Exception\n",
    "    statements\n",
    "finally:\n",
    "    # block of code after try statements are excecuted\n",
    "    statements\n",
    "```"
   ]
  },
  {
   "cell_type": "code",
   "execution_count": 3,
   "metadata": {},
   "outputs": [
    {
     "name": "stdout",
     "output_type": "stream",
     "text": [
      "1.0\n",
      "1.25\n",
      "1.6666666666666667\n",
      "2.5\n",
      "5.0\n",
      "can't divide by 0\n",
      "glad that's over with\n"
     ]
    }
   ],
   "source": [
    "# simple example\n",
    "try:\n",
    "    # divide 5 by each value 5,4,3,2,1,0,-1,-2\n",
    "    for x in range(5, -3, -1):\n",
    "        print(5/x)\n",
    "except ZeroDivisionError as e:\n",
    "    print(\"can't divide by 0\")\n",
    "except Exception as e:\n",
    "    print(\"something else went wrong\")\n",
    "finally:\n",
    "    print(\"glad that's over with\")"
   ]
  },
  {
   "cell_type": "markdown",
   "metadata": {},
   "source": [
    "#### Custom Exceptions"
   ]
  },
  {
   "cell_type": "code",
   "execution_count": 14,
   "metadata": {},
   "outputs": [
    {
     "name": "stdout",
     "output_type": "stream",
     "text": [
      "1.0\n",
      "1.25\n",
      "1.6666666666666667\n",
      "2.5\n",
      "5.0\n",
      "ah my custom exception!\n",
      "glad that's over with\n"
     ]
    }
   ],
   "source": [
    "class CustomDivideByZeroException(ZeroDivisionError):\n",
    "    pass \n",
    "\n",
    "try:\n",
    "    # divide 5 by each value 5,4,3,2,1,0,-1,-2\n",
    "    for x in range(5, -3, -1):\n",
    "        if x == 0:\n",
    "            # raise our custom exception\n",
    "            raise CustomDivideByZeroException\n",
    "            \n",
    "        print(5/x)\n",
    "except CustomDivideByZeroException as e:\n",
    "    print(\"ah my custom exception!\")    \n",
    "except ZeroDivisionError as e:\n",
    "    # this will not get called\n",
    "    print(\"can't divide by 0\")\n",
    "except Exception as e:\n",
    "    print(\"something else went wrong\")\n",
    "finally:\n",
    "    print(\"glad that's over with\")"
   ]
  },
  {
   "cell_type": "code",
   "execution_count": 13,
   "metadata": {},
   "outputs": [
    {
     "name": "stdout",
     "output_type": "stream",
     "text": [
      "1.0\n",
      "1.25\n",
      "1.6666666666666667\n",
      "2.5\n",
      "5.0\n",
      "ah my custom exception!\n",
      "glad that's over with\n",
      "caught the exception in the outer try\n"
     ]
    }
   ],
   "source": [
    "class CustomDivideByZeroException(ZeroDivisionError):\n",
    "    pass \n",
    "\n",
    "try:\n",
    "    try:\n",
    "        # divide 5 by each value 5,4,3,2,1,0,-1,-2\n",
    "        for x in range(5, -3, -1):\n",
    "            if x == 0:\n",
    "                # raise our custom exception\n",
    "                raise CustomDivideByZeroException\n",
    "\n",
    "            print(5/x)\n",
    "    except CustomDivideByZeroException as e:\n",
    "        print(\"ah my custom exception!\")    \n",
    "        # raise the exception\n",
    "        raise ZeroDivisionError\n",
    "    except ZeroDivisionError as e:\n",
    "        # this will not get called\n",
    "        print(\"can't divide by 0\")\n",
    "    except Exception as e:\n",
    "        print(\"something else went wrong\")\n",
    "    finally:\n",
    "        print(\"glad that's over with\")\n",
    "except ZeroDivisionError:\n",
    "    print(\"caught the exception in the outer try\")\n",
    "    "
   ]
  },
  {
   "cell_type": "code",
   "execution_count": 22,
   "metadata": {},
   "outputs": [
    {
     "name": "stdout",
     "output_type": "stream",
     "text": [
      "1.0\n",
      "glad that's over with\n",
      "1.25\n",
      "glad that's over with\n",
      "1.6666666666666667\n",
      "glad that's over with\n",
      "2.5\n",
      "glad that's over with\n",
      "5.0\n",
      "glad that's over with\n",
      "ah my custom exception!\n",
      "glad that's over with\n",
      "-5.0\n",
      "glad that's over with\n",
      "-2.5\n",
      "glad that's over with\n",
      "phew!\n"
     ]
    }
   ],
   "source": [
    "# if the loop starts in the outer try, then division continues after 0\n",
    "class CustomDivideByZeroException(ZeroDivisionError):\n",
    "    pass \n",
    "\n",
    "# indentation!!!\n",
    "try:\n",
    "    # divide 5 by each value 5,4,3,2,1,0,-1,-2\n",
    "    for x in range(5, -3, -1):\n",
    "        try:\n",
    "            if x == 0:\n",
    "                # raise our custom exception\n",
    "                raise CustomDivideByZeroException\n",
    "\n",
    "            print(5/x)\n",
    "        except CustomDivideByZeroException as e:\n",
    "            print(\"ah my custom exception!\")    \n",
    "        except ZeroDivisionError as e:\n",
    "            # this will not get called\n",
    "            print(\"can't divide by 0\")\n",
    "        except Exception as e:\n",
    "            print(\"something else went wrong\")\n",
    "        finally:\n",
    "            print(\"glad that's over with\")\n",
    "finally:\n",
    "    print(\"phew!\")"
   ]
  },
  {
   "cell_type": "markdown",
   "metadata": {},
   "source": [
    "#### Else block of try catch\n",
    "##### else block is executed when no exceptions are raised in the try block"
   ]
  },
  {
   "cell_type": "code",
   "execution_count": 2,
   "metadata": {},
   "outputs": [
    {
     "name": "stdout",
     "output_type": "stream",
     "text": [
      "2.5\n",
      "no exceptions\n"
     ]
    }
   ],
   "source": [
    "try:\n",
    "    x = 5/2\n",
    "    print(x)\n",
    "except ZeroDivisionError as e:\n",
    "    print(e)\n",
    "else:\n",
    "    print('no exceptions')"
   ]
  },
  {
   "cell_type": "code",
   "execution_count": null,
   "metadata": {},
   "outputs": [],
   "source": []
  }
 ],
 "metadata": {
  "kernelspec": {
   "display_name": "Python 3",
   "language": "python",
   "name": "python3"
  },
  "language_info": {
   "codemirror_mode": {
    "name": "ipython",
    "version": 3
   },
   "file_extension": ".py",
   "mimetype": "text/x-python",
   "name": "python",
   "nbconvert_exporter": "python",
   "pygments_lexer": "ipython3",
   "version": "3.7.4"
  }
 },
 "nbformat": 4,
 "nbformat_minor": 4
}
