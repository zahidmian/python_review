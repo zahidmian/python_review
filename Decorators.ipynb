{
 "cells": [
  {
   "cell_type": "markdown",
   "metadata": {},
   "source": [
    "### Decorators\n",
    "#### Functions that modify the functionality of other functions"
   ]
  },
  {
   "cell_type": "code",
   "execution_count": 15,
   "metadata": {},
   "outputs": [
    {
     "name": "stdout",
     "output_type": "stream",
     "text": [
      "hi\n"
     ]
    }
   ],
   "source": [
    "# first, recall that a function is a \"first-class\" object\n",
    "# therefore it can be stored as a reference\n",
    "\n",
    "def say_hi():\n",
    "    print(\"hi\")\n",
    "\n",
    "x = say_hi  # perfectly valid, but don't use () \n",
    "\n",
    "# now use x to do something\n",
    "x()\n"
   ]
  },
  {
   "cell_type": "code",
   "execution_count": 19,
   "metadata": {},
   "outputs": [
    {
     "name": "stdout",
     "output_type": "stream",
     "text": [
      "about to call func()\n",
      "hi\n",
      "called func()\n"
     ]
    }
   ],
   "source": [
    "# functions can be passed to functions\n",
    "\n",
    "def print_output(func):\n",
    "    print(\"about to call func()\")\n",
    "    func()  # call the function \n",
    "    print(\"called func()\")\n",
    "\n",
    "x = say_hi\n",
    "print_output(x)"
   ]
  },
  {
   "cell_type": "code",
   "execution_count": 49,
   "metadata": {},
   "outputs": [
    {
     "name": "stdout",
     "output_type": "stream",
     "text": [
      "Chaaaaarge!\n",
      "Chaaaaarge!\n"
     ]
    }
   ],
   "source": [
    "# here's a more \"practical\" example\n",
    "from random import randint\n",
    "\n",
    "def fight():\n",
    "    print(\"Chaaaaarge!\")\n",
    "    \n",
    "def not_in_peace_time(func):\n",
    "    x = randint(0,1)\n",
    "    if x == 0: # peacetime\n",
    "        pass\n",
    "    else:\n",
    "        func()\n",
    "        func() # call it twice if you want\n",
    "        \n",
    "f = fight\n",
    "not_in_peace_time(f)  \n",
    "# since it's random, may have to try several times to see the difference\n",
    "# basically we created a function that modifies the behavior of the function\n",
    "# this is what decorators do"
   ]
  },
  {
   "cell_type": "code",
   "execution_count": 52,
   "metadata": {},
   "outputs": [
    {
     "name": "stdout",
     "output_type": "stream",
     "text": [
      "Chaaaaarge!\n",
      "Chaaaaarge!\n"
     ]
    }
   ],
   "source": [
    "# the above example could be written like this\n",
    "@not_in_peace_time\n",
    "def fight():\n",
    "    print(\"Chaaaaarge!\")\n",
    "    \n",
    "# adding a decorator will automatically call the function\n"
   ]
  },
  {
   "cell_type": "code",
   "execution_count": 62,
   "metadata": {},
   "outputs": [
    {
     "name": "stdout",
     "output_type": "stream",
     "text": [
      "13\n"
     ]
    }
   ],
   "source": [
    "# create decorators with arguments\n",
    "def calculate(*args, **kwargs):\n",
    "    def inner(func):\n",
    "        # call the original function and then add the kwargs \n",
    "        sum = func(args[0])\n",
    "        for k,v in kwargs.items():\n",
    "            sum = sum + v\n",
    "        \n",
    "        print(sum)\n",
    "    \n",
    "    return inner\n",
    "\n",
    "@calculate(3, a=3, b=6)\n",
    "def add_one(n):\n",
    "    return n + 1\n",
    "\n",
    "    "
   ]
  },
  {
   "cell_type": "code",
   "execution_count": null,
   "metadata": {},
   "outputs": [],
   "source": []
  }
 ],
 "metadata": {
  "kernelspec": {
   "display_name": "Python 3",
   "language": "python",
   "name": "python3"
  },
  "language_info": {
   "codemirror_mode": {
    "name": "ipython",
    "version": 3
   },
   "file_extension": ".py",
   "mimetype": "text/x-python",
   "name": "python",
   "nbconvert_exporter": "python",
   "pygments_lexer": "ipython3",
   "version": "3.7.4"
  }
 },
 "nbformat": 4,
 "nbformat_minor": 4
}
