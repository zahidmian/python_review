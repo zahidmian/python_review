{
 "cells": [
  {
   "cell_type": "markdown",
   "metadata": {},
   "source": [
    "### Variable scope is important "
   ]
  },
  {
   "cell_type": "code",
   "execution_count": 9,
   "metadata": {},
   "outputs": [
    {
     "name": "stdout",
     "output_type": "stream",
     "text": [
      "x before function is 5\n",
      "x inside function is 10\n",
      "x after function is 5\n"
     ]
    }
   ],
   "source": [
    "# \n",
    "x = 5\n",
    "def printx():\n",
    "    x = 10  # change value of x\n",
    "    print(f\"x inside function is {x}\")\n",
    "    return x\n",
    "\n",
    "print(f\"x before function is {x}\")\n",
    "printx()\n",
    "print(f\"x after function is {x}\")\n",
    "# this means x inside the function has its own scope"
   ]
  },
  {
   "cell_type": "code",
   "execution_count": 14,
   "metadata": {},
   "outputs": [
    {
     "name": "stdout",
     "output_type": "stream",
     "text": [
      "x inside function is 10\n",
      "10\n"
     ]
    }
   ],
   "source": [
    "# printing the value returned by the function\n",
    "print(printx())"
   ]
  },
  {
   "cell_type": "markdown",
   "metadata": {},
   "source": [
    "#### python looks for variables in four scopes:  \n",
    "1. local\n",
    "2. enclosing functions\n",
    "3. global\n",
    "4. built-in len(), map(), etc."
   ]
  },
  {
   "cell_type": "code",
   "execution_count": 19,
   "metadata": {},
   "outputs": [
    {
     "name": "stdout",
     "output_type": "stream",
     "text": [
      "9\n"
     ]
    }
   ],
   "source": [
    "# enclosing function\n",
    "x = 10 # global variable\n",
    "def printx():\n",
    "    x = 5  # local variable\n",
    "    \n",
    "    def printxx():\n",
    "        z = x + 4 # x from the enclosing function\n",
    "        print(z)\n",
    "    \n",
    "    printxx()\n",
    "    \n",
    "printx()"
   ]
  },
  {
   "cell_type": "code",
   "execution_count": 16,
   "metadata": {},
   "outputs": [
    {
     "name": "stdout",
     "output_type": "stream",
     "text": [
      "10\n",
      "15\n",
      "16\n"
     ]
    }
   ],
   "source": [
    "x = 5 # global variable\n",
    "\n",
    "def printx():\n",
    "    x = 10 # local variable\n",
    "    print(x)\n",
    "\n",
    "def printx2():\n",
    "    global x # now it references the global x instead of local \n",
    "    x = 15 \n",
    "    print(x)\n",
    "    x = 16\n",
    "    \n",
    "printx()\n",
    "printx2()\n",
    "print(x)"
   ]
  },
  {
   "cell_type": "code",
   "execution_count": null,
   "metadata": {},
   "outputs": [],
   "source": []
  }
 ],
 "metadata": {
  "kernelspec": {
   "display_name": "Python 3",
   "language": "python",
   "name": "python3"
  },
  "language_info": {
   "codemirror_mode": {
    "name": "ipython",
    "version": 3
   },
   "file_extension": ".py",
   "mimetype": "text/x-python",
   "name": "python",
   "nbconvert_exporter": "python",
   "pygments_lexer": "ipython3",
   "version": "3.7.4"
  }
 },
 "nbformat": 4,
 "nbformat_minor": 4
}
